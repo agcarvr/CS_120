{
 "cells": [
  {
   "cell_type": "code",
   "execution_count": 1,
   "id": "ea05153d-d9cb-4f8f-ad06-069bea75c256",
   "metadata": {},
   "outputs": [
    {
     "data": {
      "text/plain": [
       "'\\nFunctions for dealing with Complex Numbers\\n'"
      ]
     },
     "execution_count": 1,
     "metadata": {},
     "output_type": "execute_result"
    }
   ],
   "source": [
    "'''\n",
    "Functions for dealing with Complex Numbers as tuples\n",
    "'''"
   ]
  },
  {
   "cell_type": "code",
   "execution_count": 15,
   "id": "725954ec-59f9-49f5-a0f8-c82a54559d8c",
   "metadata": {},
   "outputs": [],
   "source": [
    "def add(z1, z2):\n",
    "    '''\n",
    "    Add two complex numbers\n",
    "    '''\n",
    "    return z1[0] + z2[0], z1[1] + z2[1]\n",
    "\n",
    "def neg(z):\n",
    "    '''\n",
    "    Take the negative of a complex number\n",
    "    '''\n",
    "    return -z[0], -z[1]\n",
    "    \n",
    "def prod(z1, z2):\n",
    "    '''\n",
    "    Take the product of two complex numbers\n",
    "    '''\n",
    "    return (z1[0] * z2[0] - z1[1]*z2[1]), (z1[0]*z2[1] + z1[1] * z2[0])\n",
    "\n",
    "def mag(z):\n",
    "    '''\n",
    "    Find the magnitude of a complex number\n",
    "    '''\n",
    "    from numpy import sqrt\n",
    "    return sqrt(z[0]**2 + z[1]**2)\n",
    "\n",
    "def conj(z):\n",
    "    '''\n",
    "    Give the complex conjugate of a complex number\n",
    "    '''\n",
    "    return z[0], -z[1]\n",
    "\n",
    "def div(z1, z2):\n",
    "    '''Take the ratio of two complex numbers'''\n",
    "    \n",
    "    w = prod(z1, conj(z2))\n",
    "    r2 = mag(z2)**2\n",
    "    \n",
    "    return w[0]/r2, w[1]/r2\n",
    "\n"
   ]
  },
  {
   "cell_type": "code",
   "execution_count": 16,
   "id": "5597aaa1-73ec-4233-89f5-a7b1b3ba8e41",
   "metadata": {},
   "outputs": [],
   "source": [
    "def power(z, n):\n",
    "    \n",
    "    if n==1:\n",
    "        return z\n",
    "    else:\n",
    "        return prod(z, power(z, n-1))"
   ]
  },
  {
   "cell_type": "code",
   "execution_count": 17,
   "id": "73a6f85a-fb98-473c-bd21-ecaddc090949",
   "metadata": {},
   "outputs": [],
   "source": [
    "def e(S, x):\n",
    "    \n",
    "    num = add(S, neg(power(x, 2)))\n",
    "    den = prod( (2, 0), x)\n",
    "    \n",
    "    return div(num, den)"
   ]
  },
  {
   "cell_type": "code",
   "execution_count": 23,
   "id": "e8e8fe7f-a1ea-4bfb-85fd-fa3384897b1f",
   "metadata": {},
   "outputs": [],
   "source": [
    "def sqrt(S, x):\n",
    "    \n",
    "    count = 0\n",
    "    er = e(S, x)\n",
    "    while (mag(er)> 10**-15) and (count < 20):\n",
    "        x = add(x, er)\n",
    "        er = e(S, x)\n",
    "        count += 1\n",
    "        \n",
    "    return x, mag(er), count"
   ]
  }
 ],
 "metadata": {
  "kernelspec": {
   "display_name": "Python 3",
   "language": "python",
   "name": "python3"
  },
  "language_info": {
   "codemirror_mode": {
    "name": "ipython",
    "version": 3
   },
   "file_extension": ".py",
   "mimetype": "text/x-python",
   "name": "python",
   "nbconvert_exporter": "python",
   "pygments_lexer": "ipython3",
   "version": "3.9.5"
  }
 },
 "nbformat": 4,
 "nbformat_minor": 5
}
