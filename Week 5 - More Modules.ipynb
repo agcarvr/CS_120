{
 "cells": [
  {
   "cell_type": "markdown",
   "id": "ce38d1fc-894d-42ae-ad6c-b104ce9e0274",
   "metadata": {},
   "source": [
    "# Week 5 - More Modules\n",
    "\n",
    "Before we get back to writing our own functions, I wanted to have us spend more time with some resources that have already been created for us. This will give us a chance to explore Python a bit more and get exposed to some of the structures we will use next.\n",
    "\n",
    "Again, a major part of the course design is also to show you how these tools are used to answer questions in your other courses. To wit: Calculus!\n",
    "\n",
    "We aren't going to have time to use everything, so in your math and science courses, do be using Google and these packages below to find ways to do the things you are working on.\n",
    "\n",
    "## Numpy - Numerical Python\n",
    "\n",
    "We've already met this collection of numerical python methods. \n",
    "\n",
    "## Matplotlib - Plotting Functions\n",
    "\n",
    "This is a collection of tools for making plots.\n",
    "\n",
    "## Sympy - Symbolic Python\n",
    "\n",
    "Our first new module today is *sympy* this is a module for doing symbolic mathematics computations."
   ]
  },
  {
   "cell_type": "code",
   "execution_count": null,
   "id": "37e704ac-3e34-4e83-9952-5a1bf31bd059",
   "metadata": {},
   "outputs": [],
   "source": [
    "import sympy as sym \n",
    "# import the module, the usual alias for it is *sym*"
   ]
  },
  {
   "cell_type": "markdown",
   "id": "997bba73-690c-46f3-8565-99ae43c21a87",
   "metadata": {},
   "source": [
    "If you get an error that the module cannot be found, it is because this package is not yet installed on your computer yet. If you are using Anaconda you need to go to the list of packages, select \"uninstalled\" and search for sympy. Select it from the list, and then choose \"install selected packages\".\n",
    "\n",
    "Alternatively you could open a terminal and type:  pip install sympy\n",
    "\n",
    "The online documentation for sympy is here: https://www.sympy.org/en/index.html\n",
    "\n",
    "### Symbolic Algebra\n",
    "\n",
    "The system can do symbolic algebra:"
   ]
  },
  {
   "cell_type": "code",
   "execution_count": null,
   "id": "4d0fa136-7535-4e8e-8da0-9fa67c9c709f",
   "metadata": {},
   "outputs": [],
   "source": [
    "x = sym.symbols('x')\n",
    "sym.expand( (x - 4)*(x**2 + 9)*(x+2) )"
   ]
  },
  {
   "cell_type": "code",
   "execution_count": null,
   "id": "58c542d5-8a5e-4807-8ee2-5175deb79aed",
   "metadata": {},
   "outputs": [],
   "source": [
    "f = sym.factor(x**4 - 2*x**3 + x**2 - 18*x - 72)\n",
    "f"
   ]
  },
  {
   "cell_type": "code",
   "execution_count": null,
   "id": "dc052629-29d5-4ce4-a4bb-9c7480430ad7",
   "metadata": {},
   "outputs": [],
   "source": [
    "from sympy import cos\n",
    "# If we are only using this package we can pull the functions we want directly from it\n",
    "\n",
    "x, y = sym.symbols('x y')\n",
    "\n",
    "sym.simplify(cos(x+y)- cos(x-y)  )"
   ]
  },
  {
   "cell_type": "markdown",
   "id": "5f7e6aa0-c3db-49da-ba4d-6c559db0058d",
   "metadata": {},
   "source": [
    "Note that what we mean by Expand or Simplify, even in just Algebra, but definitely once we are talking about trigonometry or other functions can become non-trivial quickly."
   ]
  },
  {
   "cell_type": "markdown",
   "id": "e94c7142-a462-4f13-9490-5fcc10a5fd38",
   "metadata": {},
   "source": [
    "### Plots\n",
    "\n",
    "Sympy has a native plotting function that is a bit simpler to use than the matplotlib one."
   ]
  },
  {
   "cell_type": "code",
   "execution_count": null,
   "id": "054c7797-c947-4248-a304-31991d612a0b",
   "metadata": {},
   "outputs": [],
   "source": [
    "from sympy.plotting import plot\n",
    "x = sym.symbols('x')"
   ]
  },
  {
   "cell_type": "code",
   "execution_count": null,
   "id": "b4d7cf44-12a2-45db-a50a-e6e17641faea",
   "metadata": {},
   "outputs": [],
   "source": [
    "plot(f, (x, -2.5, 4.5))"
   ]
  },
  {
   "cell_type": "code",
   "execution_count": null,
   "id": "a5ffa174-2f1f-4a82-b5f8-6bfce5fa7d70",
   "metadata": {},
   "outputs": [],
   "source": [
    "p = plot( cos(x-y).subs(y, 0), cos(x-y).subs(y, 4), (x, -10, 10));"
   ]
  },
  {
   "cell_type": "code",
   "execution_count": null,
   "id": "fbc6a55c-9594-41db-b7c5-d6e5443c42dd",
   "metadata": {},
   "outputs": [],
   "source": [
    "p[0].line_color = 'red'\n",
    "p.show()"
   ]
  },
  {
   "cell_type": "markdown",
   "id": "75a76da7-d000-425b-ae20-93b54a7c6e50",
   "metadata": {},
   "source": [
    "#### Parametric Plots\n",
    "\n",
    "Parametric plots are created by specifying the value of the coordinates as depending on a paramter:\n",
    "\n",
    "For example consider the 2D curve given by:  \n",
    "\n",
    "$$ f(t) = (3*\\cos(t/2), \\sin(t/2) ) $$\n",
    "\n"
   ]
  },
  {
   "cell_type": "code",
   "execution_count": null,
   "id": "b88b3b2f-d9ec-4c82-8d4b-d60bcbee41c9",
   "metadata": {},
   "outputs": [],
   "source": [
    "from sympy.plotting import plot_parametric\n",
    "from sympy import pi, sqrt\n",
    "t = sym.symbols('t')"
   ]
  },
  {
   "cell_type": "code",
   "execution_count": null,
   "id": "0f3633a2-ddec-4b25-b03d-de29e3f07ecf",
   "metadata": {},
   "outputs": [],
   "source": [
    "plot_parametric((sqrt(t) *cos(t/2), sqrt(t)*sin(t/2)), (t, 0, 6*pi))"
   ]
  },
  {
   "cell_type": "markdown",
   "id": "bb3d5735-69bc-4a41-8cdc-ec9b9701a3e1",
   "metadata": {},
   "source": [
    "#### 3D Plots\n",
    "\n",
    "Likewise 3D plots"
   ]
  },
  {
   "cell_type": "code",
   "execution_count": null,
   "id": "5c8ecd3d-8dc5-4cbc-b003-a3de38e43d0e",
   "metadata": {},
   "outputs": [],
   "source": [
    "from sympy.plotting import plot3d\n",
    "from sympy import exp\n",
    "x, y = sym.symbols('x y')"
   ]
  },
  {
   "cell_type": "code",
   "execution_count": null,
   "id": "336021b4-e512-40a1-930e-dca6c58fad69",
   "metadata": {},
   "outputs": [],
   "source": [
    "plot3d( exp(-(x**2 + y**2)), (x, -2, 2), (y, -2, 2) )"
   ]
  },
  {
   "cell_type": "markdown",
   "id": "0300609a-efe3-47f8-8758-64ad7f391f43",
   "metadata": {},
   "source": [
    "3D plots can easily become hard to visualize and work with. A common solution is to project them into 2D plots. Contour plots for instance, in which we plot level curves are particularly helpful; but not quite implemented yet in sympy.\n",
    "\n",
    "There is a matplotlib.pyplot method for contour plots."
   ]
  },
  {
   "cell_type": "markdown",
   "id": "9713d06c-c95e-4b51-bd5d-b2c415d00522",
   "metadata": {},
   "source": [
    "### Limits\n",
    "\n",
    "We can find (some) limits:"
   ]
  },
  {
   "cell_type": "code",
   "execution_count": null,
   "id": "bd4a8794-6a2f-4845-83cd-e180283f06d4",
   "metadata": {},
   "outputs": [],
   "source": [
    "x, y = sym.symbols('x y')\n",
    "sym.limit( sin(x*y)/x, x, 0)"
   ]
  },
  {
   "cell_type": "markdown",
   "id": "401804c2-00c2-4143-8d0f-4c34bf566675",
   "metadata": {},
   "source": [
    "And we even have a symbol that functions as positive infinity: $\\infty$"
   ]
  },
  {
   "cell_type": "code",
   "execution_count": null,
   "id": "62f24bb1-b2b5-4198-8e1f-113d7f1a7a2c",
   "metadata": {},
   "outputs": [],
   "source": [
    "from sympy import oo\n",
    "sym.limit( sin(x*y)/x, x, oo )"
   ]
  },
  {
   "cell_type": "markdown",
   "id": "50a785fd-ce45-4753-8d01-fdc09e1b6fb8",
   "metadata": {},
   "source": [
    "Only as you can see it is a little hesitant"
   ]
  },
  {
   "cell_type": "code",
   "execution_count": null,
   "id": "21e16fc9-8821-4257-bf1d-c01fa6237ba0",
   "metadata": {},
   "outputs": [],
   "source": [
    "sym.limit( (sin(x)/x).subs(y, 1), x, oo)\n",
    "# The issue seems to be that it is worried that y might be something \n",
    "# other than a real number. "
   ]
  },
  {
   "cell_type": "markdown",
   "id": "94c8a4ed-35c4-4f9d-8f89-3f97194b0cd2",
   "metadata": {},
   "source": [
    "### Derrivatives\n",
    "\n",
    "We can of course find derrivatives:"
   ]
  },
  {
   "cell_type": "code",
   "execution_count": null,
   "id": "c0802e79-cce9-4be8-a2a9-257628147dd6",
   "metadata": {},
   "outputs": [],
   "source": [
    "from sympy import log"
   ]
  },
  {
   "cell_type": "code",
   "execution_count": null,
   "id": "671e81fe-b04f-448e-ac38-e4e887ae82cc",
   "metadata": {},
   "outputs": [],
   "source": [
    "sym.diff( x**3 * log(x), x)"
   ]
  },
  {
   "cell_type": "markdown",
   "id": "cbc94591-ff33-4375-a958-d457e46d3481",
   "metadata": {},
   "source": [
    "And then this opens all sorts of possibilities:"
   ]
  },
  {
   "cell_type": "code",
   "execution_count": null,
   "id": "5866e8ba-1911-4387-bc06-877c22c02b1d",
   "metadata": {},
   "outputs": [],
   "source": [
    "f = x**3 * log(x)\n",
    "dfdx = sym.diff(f, x)\n",
    "p = plot(f, dfdx, (x, 0.001, 1.25))"
   ]
  },
  {
   "cell_type": "code",
   "execution_count": null,
   "id": "e127be65-18f9-40fe-b24d-65f1d7050bb3",
   "metadata": {},
   "outputs": [],
   "source": [
    "p[0].line_color = 'red'\n",
    "p.show()"
   ]
  },
  {
   "cell_type": "markdown",
   "id": "847f7efe-f625-493d-8e79-de03ab7b40d6",
   "metadata": {},
   "source": [
    "### Integration\n",
    "\n",
    "And if you have taken Calculus, symbolic integrals are also possible, though as you learned not every function has a closed form anti-derivative:"
   ]
  },
  {
   "cell_type": "code",
   "execution_count": null,
   "id": "b9a0e68a-e62b-45bb-b3ea-3e2b66bff644",
   "metadata": {},
   "outputs": [],
   "source": [
    "f = 1/sqrt(20 - x**2)\n",
    "sym.integrate(f, x)"
   ]
  },
  {
   "cell_type": "code",
   "execution_count": null,
   "id": "1b75e53d-0001-4706-bdfc-352998ca668e",
   "metadata": {},
   "outputs": [],
   "source": [
    "sym.integrate(f, (x, 0, sqrt(20)) )"
   ]
  },
  {
   "cell_type": "markdown",
   "id": "ea91e41a-7e47-4b6a-bb90-9fc80a39f027",
   "metadata": {},
   "source": [
    "## Scipy - Scientific Python\n",
    "\n",
    "The other package I would like to introduce you to is *scipy* for Scientific Python. This is a collection of computational tools used more generally in the sciences. \n",
    "\n",
    "It is huge and we will not have time to see all of it. \n",
    "\n",
    "The documentation is here: https://docs.scipy.org/doc/scipy/reference/\n",
    "\n",
    "Scipy is now the umbrella organization underwhich the development of numpy, sympy, and many other packages is happening.\n",
    "\n",
    "\n",
    "### Numerical Integration\n",
    "\n",
    "One of the primary tools in this package that I use are the numerical integrators and ODE solvers. \n",
    "\n",
    "For example consider the simple ODE:\n",
    "\n",
    "$$ \\frac{dy}{dx} = \\frac{y}{x^2 + 1} $$\n",
    "\n",
    "You can solve this exactly (it is seperable), but lets see what approximate solutions look like using the scipy solver:"
   ]
  },
  {
   "cell_type": "code",
   "execution_count": 2,
   "id": "dc964f47-9a46-433d-887e-8fb6d2f751dd",
   "metadata": {},
   "outputs": [],
   "source": [
    "from scipy.integrate import odeint\n",
    "import numpy as np # most of scipy relies on parts of numpy"
   ]
  },
  {
   "cell_type": "markdown",
   "id": "d9eb0592-6495-421c-9c50-ce5fcfc8da2c",
   "metadata": {},
   "source": [
    "Scipy's routines want functions in the traditional Python sense of using a def declaration and returning a float."
   ]
  },
  {
   "cell_type": "code",
   "execution_count": null,
   "id": "4170ee92-daf7-4457-abba-6086d1b9d7ac",
   "metadata": {},
   "outputs": [],
   "source": [
    "def f(x, y):\n",
    "    return y / (x**2 + 1)"
   ]
  },
  {
   "cell_type": "code",
   "execution_count": null,
   "id": "969429de-b98b-444c-b482-b098340241f5",
   "metadata": {},
   "outputs": [],
   "source": [
    "odeint(f, 1, np.arange(0, 5, 0.1), tfirst=True)\n",
    "# tfirst is a command to tell Python that the independent variable,\n",
    "# x in our case, comes first in the function declaration."
   ]
  },
  {
   "cell_type": "code",
   "execution_count": null,
   "id": "6b834315-542c-4c9a-9f80-2d73cfc1aabf",
   "metadata": {},
   "outputs": [],
   "source": [
    "import matplotlib.pyplot as plt\n",
    "x_in = np.arange(0, 10, 0.1)\n",
    "y_out = odeint(f, 1, x_in, tfirst=True)\n",
    "plt.plot(x_in, y_out, 'b-')"
   ]
  },
  {
   "cell_type": "markdown",
   "id": "8a208826-b09e-4c38-8ee8-64f0fdb145b0",
   "metadata": {},
   "source": [
    "## Activity\n",
    "\n",
    "To explore this package more. Here is an activity for us:\n",
    "\n",
    "Some laws for electrical circuits:\n",
    "\n",
    "- (Kirkhoff's Current Law) The sum of the currents into a junction point is zero.\n",
    "- (Kirkhoff's Voltage Law) The sum of the voltages of a circuit is equal to zero.\n",
    "- (Ohm's Law) The voltage on a resistor is proportional to the current:  $ E_R = R I$\n",
    "- The voltage drop across a capacity is proportion to the electrical charge q of the capacitor: $ E_C = \\frac{1}{C} q $\n",
    "\n",
    "- Considering the charge q of a capacitor, the rate at which the charge changes is the current throught he capacitor (capacitors store or release current):  $$ I = \\frac{dq}{dt} $$\n",
    "\n",
    "###  An RC Circuit\n",
    "\n",
    "So if we have an RC circuit - a resisitor, a capacitor, and a voltage source, we can add up the voltages we get and we find:\n",
    "\n",
    "$$ V_R + V_C = E = \\mbox{the source voltage} $$\n",
    "\n",
    "and the current of the whole circuit is $I(t)$.\n",
    "\n",
    "Writing this sum out in terms of the above laws we get:  \n",
    "\n",
    "$$ R I + \\frac{1}{C} q = E $$ \n",
    "\n",
    "and then everything on the LHS can be written in terms of $q$ and its rate of change:\n",
    "\n",
    "$$ R \\frac{dq}{dt} + \\frac{1}{C} q = E $$\n",
    "\n",
    "Suppose our resisitor is $R = 1 \\mbox{Ohms}$ and the capacitor is $10^{-6} \\mbox{Faradays}$, if the applied voltage is a constant $V$ volts, what happens to the circuit for different values of $V$?\n",
    "\n",
    "#### Step One\n",
    "\n",
    "Fix a value for $E = V$ and write a function that takes a value for charge $q$ and a time $t$, and returns the value of $\\frac{dq}{dt}$. Note that $t$ is not actually used in computing the return value, but it needs to be there for the *odeint* command to work correctly."
   ]
  },
  {
   "cell_type": "code",
   "execution_count": null,
   "id": "16bfc438-702f-4c59-a401-924e9b93ec55",
   "metadata": {},
   "outputs": [],
   "source": []
  },
  {
   "cell_type": "markdown",
   "id": "32267768-540b-45f5-a6ea-a38cc6a50426",
   "metadata": {},
   "source": [
    "#### Step Two\n",
    "\n",
    "Use the odeint function we introduced above, and the matplotlib.pyplot to graph the value of the charge $q$, with an initial value of $q = 2$. "
   ]
  },
  {
   "cell_type": "code",
   "execution_count": null,
   "id": "4e8d7f59-3160-403d-b52b-f243b3a62c99",
   "metadata": {},
   "outputs": [],
   "source": []
  },
  {
   "cell_type": "markdown",
   "id": "a38ad8a8-88b7-404a-a698-7586c62b71ad",
   "metadata": {},
   "source": [
    "#### Step Three\n",
    "\n",
    "An annoying thing in how this works is that our function we pass to odeint needs to take just the $t$ and $q$ variables, and nothing else. We would rather be able to change $V$ and produce a new graph so that we could easily move the value of $V$ around. \n",
    "\n",
    "Write a function that takes a value for V as an input and produces a graph of the charge $q$.\n",
    "\n",
    "HINT:  We can define functions inside of our functions!!"
   ]
  },
  {
   "cell_type": "code",
   "execution_count": null,
   "id": "4b0cf193-5ff6-45fa-99d8-69066cc50dca",
   "metadata": {},
   "outputs": [],
   "source": []
  },
  {
   "cell_type": "code",
   "execution_count": null,
   "id": "17850dc8-6233-478a-b449-6d24b220c1d8",
   "metadata": {},
   "outputs": [],
   "source": []
  },
  {
   "cell_type": "code",
   "execution_count": null,
   "id": "55c20575-dc98-4ebf-abb9-1d94995059cb",
   "metadata": {},
   "outputs": [],
   "source": []
  },
  {
   "cell_type": "code",
   "execution_count": null,
   "id": "3ef548e7-330b-4831-b9bd-01358999ee53",
   "metadata": {},
   "outputs": [],
   "source": []
  },
  {
   "cell_type": "code",
   "execution_count": null,
   "id": "69edea79-2b44-4091-a3ae-8be3fd58ef83",
   "metadata": {},
   "outputs": [],
   "source": []
  },
  {
   "cell_type": "code",
   "execution_count": null,
   "id": "eea5b0b1-c008-4127-b870-e009a26ed11e",
   "metadata": {},
   "outputs": [],
   "source": []
  },
  {
   "cell_type": "markdown",
   "id": "22a32365-6d77-4a14-b9be-e0b5b0386950",
   "metadata": {},
   "source": [
    "### Statistics / Random Variables\n",
    "\n",
    "Scipy has an extensive collection of random variables with methods defined for the relevant statistical computations. \n",
    "\n",
    "For example the normal distribution is imported with"
   ]
  },
  {
   "cell_type": "code",
   "execution_count": null,
   "id": "0f622e4e-fbc9-4bf4-acd8-8141670cd057",
   "metadata": {},
   "outputs": [],
   "source": [
    "from scipy.stats import norm"
   ]
  },
  {
   "cell_type": "code",
   "execution_count": null,
   "id": "3bec0bfb-d5d0-44b8-a336-f40d0cff0cf4",
   "metadata": {},
   "outputs": [],
   "source": [
    "# Sample from the distribution \n",
    "v = norm.rvs(0, 1, size = 50)\n",
    "v"
   ]
  },
  {
   "cell_type": "code",
   "execution_count": null,
   "id": "afbe567f-8259-4f0d-8ff3-569ee948daa2",
   "metadata": {},
   "outputs": [],
   "source": [
    "plt.hist(v);\n",
    "# We can plot a histogram from a numpy.array"
   ]
  },
  {
   "cell_type": "code",
   "execution_count": null,
   "id": "afa1d903-c188-4684-abdb-dba04db9eeb8",
   "metadata": {},
   "outputs": [],
   "source": [
    "# We can evaluate the Cummulative Distribution Function\n",
    "norm.cdf(-1)"
   ]
  },
  {
   "cell_type": "code",
   "execution_count": null,
   "id": "702809d1-b183-4f4a-aa88-248c5d20f6ba",
   "metadata": {},
   "outputs": [],
   "source": [
    "# We can perform a reverse lookup of the CDF\n",
    "norm.ppf(0.95)"
   ]
  },
  {
   "cell_type": "code",
   "execution_count": null,
   "id": "95a38060-2a75-4993-a876-42b9a45bbc72",
   "metadata": {},
   "outputs": [],
   "source": []
  }
 ],
 "metadata": {
  "kernelspec": {
   "display_name": "Python 3",
   "language": "python",
   "name": "python3"
  },
  "language_info": {
   "codemirror_mode": {
    "name": "ipython",
    "version": 3
   },
   "file_extension": ".py",
   "mimetype": "text/x-python",
   "name": "python",
   "nbconvert_exporter": "python",
   "pygments_lexer": "ipython3",
   "version": "3.9.5"
  }
 },
 "nbformat": 4,
 "nbformat_minor": 5
}
