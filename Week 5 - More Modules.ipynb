{
 "cells": [
  {
   "cell_type": "markdown",
   "source": [
    "# Week 5 - More Modules\n",
    "\n",
    "Before we get back to writing our own functions, I wanted to have us spend more time with some resources that have already been created for us. This will give us a chance to explore Python a bit more and get exposed to some of the structures we will use next.\n",
    "\n",
    "Again, a major part of the course design is also to show you how these tools are used to answer questions in your other courses. To wit: Calculus!\n",
    "\n",
    "We aren't going to have time to use everything, so in your math and science courses, do be using Google and these packages below to find ways to do the things you are working on.\n",
    "\n",
    "## Numpy - Numerical Python\n",
    "\n",
    "We've already met this collection of numerical python methods. \n",
    "\n",
    "## Matplotlib - Plotting Functions\n",
    "\n",
    "This is a collection of tools for making plots.\n",
    "\n",
    "## Sympy - Symbolic Python\n",
    "\n",
    "Our first new module today is *sympy* this is a module for doing symbolic mathematics computations."
   ],
   "metadata": {}
  },
  {
   "cell_type": "code",
   "execution_count": null,
   "source": [
    "import sympy as sym \n",
    "# import the module, the usual alias for it is *sym*"
   ],
   "outputs": [],
   "metadata": {}
  },
  {
   "cell_type": "markdown",
   "source": [
    "If you get an error that the module cannot be found, it is because this package is not yet installed on your computer yet. If you are using Anaconda you need to go to the list of packages, select \"uninstalled\" and search for sympy. Select it from the list, and then choose \"install selected packages\".\n",
    "\n",
    "Alternatively you could open a terminal and type:  pip install sympy\n",
    "\n",
    "The online documentation for sympy is here: https://www.sympy.org/en/index.html\n",
    "\n",
    "### Symbolic Algebra\n",
    "\n",
    "The system can do symbolic algebra:"
   ],
   "metadata": {}
  },
  {
   "cell_type": "code",
   "execution_count": null,
   "source": [
    "x = sym.symbols('x')\n",
    "sym.expand( (x - 4)*(x**2 + 9)*(x+2) )"
   ],
   "outputs": [],
   "metadata": {}
  },
  {
   "cell_type": "code",
   "execution_count": null,
   "source": [
    "f = sym.factor(x**4 - 2*x**3 + x**2 - 18*x - 72)\n",
    "f"
   ],
   "outputs": [],
   "metadata": {}
  },
  {
   "cell_type": "code",
   "execution_count": null,
   "source": [
    "from sympy import cos\n",
    "# If we are only using this package we can pull the functions we want directly from it\n",
    "\n",
    "x, y = sym.symbols('x y')\n",
    "\n",
    "sym.simplify(cos(x+y)- cos(x-y)  )"
   ],
   "outputs": [],
   "metadata": {}
  },
  {
   "cell_type": "markdown",
   "source": [
    "Note that what we mean by Expand or Simplify, even in just Algebra, but definitely once we are talking about trigonometry or other functions can become non-trivial quickly."
   ],
   "metadata": {}
  },
  {
   "cell_type": "markdown",
   "source": [
    "### Plots\n",
    "\n",
    "Sympy has a native plotting function that is a bit simpler to use than the matplotlib one."
   ],
   "metadata": {}
  },
  {
   "cell_type": "code",
   "execution_count": null,
   "source": [
    "from sympy.plotting import plot\n",
    "x = sym.symbols('x')"
   ],
   "outputs": [],
   "metadata": {}
  },
  {
   "cell_type": "code",
   "execution_count": null,
   "source": [
    "plot(f, (x, -2.5, 4.5))"
   ],
   "outputs": [],
   "metadata": {}
  },
  {
   "cell_type": "code",
   "execution_count": null,
   "source": [
    "p = plot( cos(x-y).subs(y, 0), cos(x-y).subs(y, 4), (x, -10, 10));"
   ],
   "outputs": [],
   "metadata": {}
  },
  {
   "cell_type": "code",
   "execution_count": null,
   "source": [
    "p[0].line_color = 'red'\n",
    "p.show()"
   ],
   "outputs": [],
   "metadata": {}
  },
  {
   "cell_type": "markdown",
   "source": [
    "#### Parametric Plots\n",
    "\n",
    "Parametric plots are created by specifying the value of the coordinates as depending on a paramter:\n",
    "\n",
    "For example consider the 2D curve given by:  \n",
    "\n",
    "$$ f(t) = (3*\\cos(t/2), \\sin(t/2) ) $$\n",
    "\n"
   ],
   "metadata": {}
  },
  {
   "cell_type": "code",
   "execution_count": null,
   "source": [
    "from sympy.plotting import plot_parametric\n",
    "from sympy import pi, sqrt\n",
    "t = sym.symbols('t')"
   ],
   "outputs": [],
   "metadata": {}
  },
  {
   "cell_type": "code",
   "execution_count": null,
   "source": [
    "plot_parametric((sqrt(t) *cos(t/2), sqrt(t)*sin(t/2)), (t, 0, 6*pi))"
   ],
   "outputs": [],
   "metadata": {}
  },
  {
   "cell_type": "markdown",
   "source": [
    "#### 3D Plots\n",
    "\n",
    "Likewise 3D plots"
   ],
   "metadata": {}
  },
  {
   "cell_type": "code",
   "execution_count": null,
   "source": [
    "from sympy.plotting import plot3d\n",
    "from sympy import exp\n",
    "x, y = sym.symbols('x y')"
   ],
   "outputs": [],
   "metadata": {}
  },
  {
   "cell_type": "code",
   "execution_count": null,
   "source": [
    "plot3d( exp(-(x**2 + y**2)), (x, -2, 2), (y, -2, 2) )"
   ],
   "outputs": [],
   "metadata": {}
  },
  {
   "cell_type": "markdown",
   "source": [
    "3D plots can easily become hard to visualize and work with. A common solution is to project them into 2D plots. Contour plots for instance, in which we plot level curves are particularly helpful; but not quite implemented yet in sympy.\n",
    "\n",
    "There is a matplotlib.pyplot method for contour plots."
   ],
   "metadata": {}
  },
  {
   "cell_type": "markdown",
   "source": [
    "### Limits\n",
    "\n",
    "We can find (some) limits:"
   ],
   "metadata": {}
  },
  {
   "cell_type": "code",
   "execution_count": null,
   "source": [
    "x, y = sym.symbols('x y')\n",
    "sym.limit( sin(x*y)/x, x, 0)"
   ],
   "outputs": [],
   "metadata": {}
  },
  {
   "cell_type": "markdown",
   "source": [
    "And we even have a symbol that functions as positive infinity: $\\infty$"
   ],
   "metadata": {}
  },
  {
   "cell_type": "code",
   "execution_count": null,
   "source": [
    "from sympy import oo\n",
    "sym.limit( sin(x*y)/x, x, oo )"
   ],
   "outputs": [],
   "metadata": {}
  },
  {
   "cell_type": "markdown",
   "source": [
    "Only as you can see it is a little hesitant"
   ],
   "metadata": {}
  },
  {
   "cell_type": "code",
   "execution_count": null,
   "source": [
    "sym.limit( (sin(x)/x).subs(y, 1), x, oo)\n",
    "# The issue seems to be that it is worried that y might be something \n",
    "# other than a real number. "
   ],
   "outputs": [],
   "metadata": {}
  },
  {
   "cell_type": "markdown",
   "source": [
    "### Derrivatives\n",
    "\n",
    "We can of course find derrivatives:"
   ],
   "metadata": {}
  },
  {
   "cell_type": "code",
   "execution_count": null,
   "source": [
    "from sympy import log"
   ],
   "outputs": [],
   "metadata": {}
  },
  {
   "cell_type": "code",
   "execution_count": null,
   "source": [
    "sym.diff( x**3 * log(x), x)"
   ],
   "outputs": [],
   "metadata": {}
  },
  {
   "cell_type": "markdown",
   "source": [
    "And then this opens all sorts of possibilities:"
   ],
   "metadata": {}
  },
  {
   "cell_type": "code",
   "execution_count": null,
   "source": [
    "f = x**3 * log(x)\n",
    "dfdx = sym.diff(f, x)\n",
    "p = plot(f, dfdx, (x, 0.001, 1.25))"
   ],
   "outputs": [],
   "metadata": {}
  },
  {
   "cell_type": "code",
   "execution_count": null,
   "source": [
    "p[0].line_color = 'red'\n",
    "p.show()"
   ],
   "outputs": [],
   "metadata": {}
  },
  {
   "cell_type": "markdown",
   "source": [
    "### Integration\n",
    "\n",
    "And if you have taken Calculus, symbolic integrals are also possible, though as you learned not every function has a closed form anti-derivative:"
   ],
   "metadata": {}
  },
  {
   "cell_type": "code",
   "execution_count": null,
   "source": [
    "f = 1/sqrt(20 - x**2)\n",
    "sym.integrate(f, x)"
   ],
   "outputs": [],
   "metadata": {}
  },
  {
   "cell_type": "code",
   "execution_count": null,
   "source": [
    "sym.integrate(f, (x, 0, sqrt(20)) )"
   ],
   "outputs": [],
   "metadata": {}
  },
  {
   "cell_type": "markdown",
   "source": [
    "## Scipy - Scientific Python\n",
    "\n",
    "The other package I would like to introduce you to is *scipy* for Scientific Python. This is a collection of computational tools used more generally in the sciences. \n",
    "\n",
    "It is huge and we will not have time to see all of it. \n",
    "\n",
    "The documentation is here: https://docs.scipy.org/doc/scipy/reference/\n",
    "\n",
    "Scipy is now the umbrella organization underwhich the development of numpy, sympy, and many other packages is happening.\n",
    "\n",
    "\n",
    "### Numerical Integration\n",
    "\n",
    "One of the primary tools in this package that I use are the numerical integrators and ODE solvers. \n",
    "\n",
    "For example consider the simple ODE:\n",
    "\n",
    "$$ \\frac{dy}{dx} = \\frac{y}{x^2 + 1} $$\n",
    "\n",
    "You can solve this exactly (it is seperable), but lets see what approximate solutions look like using the scipy solver:"
   ],
   "metadata": {}
  },
  {
   "cell_type": "code",
   "execution_count": 2,
   "source": [
    "from scipy.integrate import odeint\n",
    "import numpy as np # most of scipy relies on parts of numpy"
   ],
   "outputs": [],
   "metadata": {}
  },
  {
   "cell_type": "markdown",
   "source": [
    "Scipy's routines want functions in the traditional Python sense of using a def declaration and returning a float."
   ],
   "metadata": {}
  },
  {
   "cell_type": "code",
   "execution_count": null,
   "source": [
    "def f(x, y):\n",
    "    return y / (x**2 + 1)"
   ],
   "outputs": [],
   "metadata": {}
  },
  {
   "cell_type": "code",
   "execution_count": null,
   "source": [
    "odeint(f, 1, np.arange(0, 5, 0.1), tfirst=True)\n",
    "# tfirst is a command to tell Python that the independent variable,\n",
    "# x in our case, comes first in the function declaration."
   ],
   "outputs": [],
   "metadata": {}
  },
  {
   "cell_type": "code",
   "execution_count": null,
   "source": [
    "import matplotlib.pyplot as plt\n",
    "x_in = np.arange(0, 10, 0.1)\n",
    "y_out = odeint(f, 1, x_in, tfirst=True)\n",
    "plt.plot(x_in, y_out, 'b-')"
   ],
   "outputs": [],
   "metadata": {}
  },
  {
   "cell_type": "markdown",
   "source": [
    "## Activity\n",
    "\n",
    "To explore this package more. Here is an activity for us:\n",
    "\n",
    "Some laws for electrical circuits:\n",
    "\n",
    "- (Kirkhoff's Current Law) The sum of the currents into a junction point is zero.\n",
    "- (Kirkhoff's Voltage Law) The sum of the voltages of a circuit is equal to zero.\n",
    "- (Ohm's Law) The voltage on a resistor is proportional to the current:  $ E_R = R I$\n",
    "- The voltage drop across a capacitor is proportional to the electrical charge q of the capacitor: $ E_C = \\frac{1}{C} q $\n",
    "\n",
    "- Considering the charge q of a capacitor, the rate at which the charge changes is the current throught he capacitor (capacitors store or release current):  $$ I = \\frac{dq}{dt} $$\n",
    "\n",
    "###  An RC Circuit\n",
    "\n",
    "So if we have an RC circuit - a resisitor, a capacitor, and a voltage source, we can add up the voltages we get and we find:\n",
    "\n",
    "$$ V_R + V_C = E = \\mbox{the source voltage} $$\n",
    "\n",
    "and the current of the whole circuit is $I(t)$.\n",
    "\n",
    "Writing this sum out in terms of the above laws we get:  \n",
    "\n",
    "$$ R I + \\frac{1}{C} q = E $$ \n",
    "\n",
    "and then everything on the LHS can be written in terms of $q$ and its rate of change:\n",
    "\n",
    "$$ R \\frac{dq}{dt} + \\frac{1}{C} q = E $$\n",
    "\n",
    "Suppose our resisitor is $R = 1 \\mbox{Ohms}$ and the capacitor is $10^{-6} \\mbox{Faradays}$, if the applied voltage is a constant $V$ volts, what happens to the circuit for different values of $V$?\n",
    "\n",
    "#### Step One\n",
    "\n",
    "Fix a value for $E = V$ and write a function that takes a value for charge $q$ and a time $t$, and returns the value of $\\frac{dq}{dt}$. Note that $t$ is not actually used in computing the return value, but it needs to be there for the *odeint* command to work correctly."
   ],
   "metadata": {}
  },
  {
   "cell_type": "code",
   "execution_count": null,
   "source": [],
   "outputs": [],
   "metadata": {}
  },
  {
   "cell_type": "markdown",
   "source": [
    "#### Step Two\n",
    "\n",
    "Use the odeint function we introduced above, and the matplotlib.pyplot to graph the value of the charge $q$, with an initial value of $q = 2$. "
   ],
   "metadata": {}
  },
  {
   "cell_type": "code",
   "execution_count": null,
   "source": [],
   "outputs": [],
   "metadata": {}
  },
  {
   "cell_type": "markdown",
   "source": [
    "#### Step Three\n",
    "\n",
    "An annoying thing in how this works is that our function we pass to odeint needs to take just the $t$ and $q$ variables, and nothing else. We would rather be able to change $V$ and produce a new graph so that we could easily move the value of $V$ around. \n",
    "\n",
    "Write a function that takes a value for V as an input and produces a graph of the charge $q$.\n",
    "\n",
    "HINT:  We can define functions inside of our functions!!"
   ],
   "metadata": {}
  },
  {
   "cell_type": "code",
   "execution_count": null,
   "source": [],
   "outputs": [],
   "metadata": {}
  },
  {
   "cell_type": "code",
   "execution_count": null,
   "source": [],
   "outputs": [],
   "metadata": {}
  },
  {
   "cell_type": "code",
   "execution_count": null,
   "source": [],
   "outputs": [],
   "metadata": {}
  },
  {
   "cell_type": "code",
   "execution_count": null,
   "source": [],
   "outputs": [],
   "metadata": {}
  },
  {
   "cell_type": "code",
   "execution_count": null,
   "source": [],
   "outputs": [],
   "metadata": {}
  },
  {
   "cell_type": "code",
   "execution_count": null,
   "source": [],
   "outputs": [],
   "metadata": {}
  },
  {
   "cell_type": "markdown",
   "source": [
    "### Statistics / Random Variables\n",
    "\n",
    "Scipy has an extensive collection of random variables with methods defined for the relevant statistical computations. \n",
    "\n",
    "For example the normal distribution is imported with"
   ],
   "metadata": {}
  },
  {
   "cell_type": "code",
   "execution_count": null,
   "source": [
    "from scipy.stats import norm"
   ],
   "outputs": [],
   "metadata": {}
  },
  {
   "cell_type": "code",
   "execution_count": null,
   "source": [
    "# Sample from the distribution \n",
    "v = norm.rvs(0, 1, size = 50)\n",
    "v"
   ],
   "outputs": [],
   "metadata": {}
  },
  {
   "cell_type": "code",
   "execution_count": null,
   "source": [
    "plt.hist(v);\n",
    "# We can plot a histogram from a numpy.array"
   ],
   "outputs": [],
   "metadata": {}
  },
  {
   "cell_type": "code",
   "execution_count": null,
   "source": [
    "# We can evaluate the Cummulative Distribution Function\n",
    "norm.cdf(-1)"
   ],
   "outputs": [],
   "metadata": {}
  },
  {
   "cell_type": "code",
   "execution_count": null,
   "source": [
    "# We can perform a reverse lookup of the CDF\n",
    "norm.ppf(0.95)"
   ],
   "outputs": [],
   "metadata": {}
  },
  {
   "cell_type": "code",
   "execution_count": null,
   "source": [],
   "outputs": [],
   "metadata": {}
  }
 ],
 "metadata": {
  "kernelspec": {
   "display_name": "Python 3",
   "language": "python",
   "name": "python3"
  },
  "language_info": {
   "codemirror_mode": {
    "name": "ipython",
    "version": 3
   },
   "file_extension": ".py",
   "mimetype": "text/x-python",
   "name": "python",
   "nbconvert_exporter": "python",
   "pygments_lexer": "ipython3",
   "version": "3.9.5"
  }
 },
 "nbformat": 4,
 "nbformat_minor": 5
}