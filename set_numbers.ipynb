{
 "cells": [
  {
   "cell_type": "code",
   "execution_count": 4,
   "id": "410d4983-bbf8-4a7d-8595-e95b0301c93c",
   "metadata": {},
   "outputs": [],
   "source": [
    "import random as random"
   ]
  },
  {
   "cell_type": "code",
   "execution_count": 7,
   "id": "81341f47-d8c7-4333-9c36-eacef684ca8d",
   "metadata": {},
   "outputs": [],
   "source": [
    "outre = []\n",
    "outim = []\n",
    "for j in range(200):\n",
    "    outre += [ random.uniform(-10, 10)]\n",
    "    outim += [ random.uniform(-10, 10)]"
   ]
  },
  {
   "cell_type": "code",
   "execution_count": 15,
   "id": "e548af05-3cd6-4aa9-8814-e1bfcda3c796",
   "metadata": {},
   "outputs": [],
   "source": [
    "f = open('numbers.txt', 'w')\n",
    "for j in range(len(outre)):\n",
    "    if outim[j] > 0:\n",
    "        f.write( '{}+{}i\\n'.format(outre[j], outim[j]))\n",
    "    else:\n",
    "        f.write( '{}-{}i\\n'.format(outre[j], -outim[j]))\n",
    "        \n",
    "f.close()"
   ]
  },
  {
   "cell_type": "code",
   "execution_count": null,
   "id": "5e6ecde8-7cf1-42ff-aaf1-abcd48440e42",
   "metadata": {},
   "outputs": [],
   "source": []
  }
 ],
 "metadata": {
  "kernelspec": {
   "display_name": "Python 3",
   "language": "python",
   "name": "python3"
  },
  "language_info": {
   "codemirror_mode": {
    "name": "ipython",
    "version": 3
   },
   "file_extension": ".py",
   "mimetype": "text/x-python",
   "name": "python",
   "nbconvert_exporter": "python",
   "pygments_lexer": "ipython3",
   "version": "3.9.5"
  }
 },
 "nbformat": 4,
 "nbformat_minor": 5
}
