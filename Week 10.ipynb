{
 "cells": [
  {
   "cell_type": "markdown",
   "id": "22859c21-5d17-4517-916c-ce22e59654cf",
   "metadata": {},
   "source": [
    "# Sets\n",
    "\n",
    "Python includes a builtin type called *sets* that are a generalization of lists to the situation where:  order no longer matters and repetition is not allowed. \n",
    "\n",
    "We define sets using curly brackets; or they can be converted from lists:"
   ]
  },
  {
   "cell_type": "code",
   "execution_count": null,
   "id": "c2827718-fb82-4e7c-836d-f115cd0051f0",
   "metadata": {},
   "outputs": [],
   "source": [
    "set1 = {1, 10, 100, 1000}\n",
    "set1"
   ]
  },
  {
   "cell_type": "code",
   "execution_count": null,
   "id": "dc6d9415-9173-4583-8c96-442a08517540",
   "metadata": {},
   "outputs": [],
   "source": [
    "set2 = set( [x for x in dir(set) if '_' != x[0] ] ) # Makes a set from the list generator expression\n",
    "set2"
   ]
  },
  {
   "cell_type": "markdown",
   "id": "6850f8ed-9172-465f-9daf-50caecde11c3",
   "metadata": {},
   "source": [
    "Like wise we can also convert sets into lists:"
   ]
  },
  {
   "cell_type": "code",
   "execution_count": null,
   "id": "36b7d02b-f850-4088-b830-7677c27ccac7",
   "metadata": {},
   "outputs": [],
   "source": [
    "a = list( set1 )\n",
    "a"
   ]
  },
  {
   "cell_type": "markdown",
   "id": "bc3f05b2-2c4e-46a1-aebb-07fddb396dd7",
   "metadata": {},
   "source": [
    "However note because the order of a set does not matter, the order of the list we get will be arbitrary - the actual order a set is displayed depends on the computer we are using."
   ]
  },
  {
   "cell_type": "code",
   "execution_count": null,
   "id": "8bec2416-db39-4562-9096-d371df07c454",
   "metadata": {},
   "outputs": [],
   "source": [
    "# Order does not matter\n",
    "\n",
    "{ 'dog', 'cat', 'bird' } == {'cat', 'dog', 'bird'}"
   ]
  },
  {
   "cell_type": "markdown",
   "id": "13e524cf-64cc-4b02-aa4d-70cbb3b7b630",
   "metadata": {},
   "source": [
    "Sets are mutable, and some of the methods will modify a set in place:"
   ]
  },
  {
   "cell_type": "code",
   "execution_count": null,
   "id": "0be0d9a5-e53d-4773-bed1-2952b9d6c333",
   "metadata": {},
   "outputs": [],
   "source": [
    "x = {2, 3, 4}\n",
    "x.discard(4)\n",
    "x"
   ]
  },
  {
   "cell_type": "markdown",
   "id": "3db7f36c-8bc3-43df-a607-cfb1e23046aa",
   "metadata": {},
   "source": [
    "The main thing I use sets for is if I want to get the unique elements from a list or other iterable:\n"
   ]
  },
  {
   "cell_type": "code",
   "execution_count": null,
   "id": "230d50b8-d433-4389-91e0-b2b93f363dd7",
   "metadata": {},
   "outputs": [],
   "source": [
    "pets = ['dog', 'cat', 'bird', 'cat', 'cat', 'dog', 'cow', 'chicken']\n",
    "pets"
   ]
  },
  {
   "cell_type": "code",
   "execution_count": null,
   "id": "c1c2e498-f0f2-4700-893b-87f7290c45d0",
   "metadata": {},
   "outputs": [],
   "source": [
    "unique_pets = set(pets)\n",
    "unique_pets"
   ]
  },
  {
   "cell_type": "markdown",
   "id": "b7bbfbd6-7e31-4275-aac2-e9360328cdda",
   "metadata": {},
   "source": [
    "Sets are iterable, so we can write for loops to manipulate them:  However note that because the order of a set is aribtrary, we do not know the order we will proceed through the loop."
   ]
  },
  {
   "cell_type": "code",
   "execution_count": null,
   "id": "97a29c91-5dd1-47f1-85da-89ec36b0f137",
   "metadata": {},
   "outputs": [],
   "source": [
    "for x in unique_pets:\n",
    "    print(x.upper())"
   ]
  },
  {
   "cell_type": "markdown",
   "id": "b32b3a5a-cd5a-45a9-a241-b0a3f600cc56",
   "metadata": {},
   "source": [
    "# Dictionaries\n",
    "\n",
    "Chapter 11 in our textbook.\n",
    "\n",
    "A very useful type in Python is a dictionary. To see how useful it is consider the following problem:\n",
    "\n",
    "Suppose we want to write a function that takes a string and counts how many times each letter in the alphabet is used? What would we do with the tools we have now?"
   ]
  },
  {
   "cell_type": "code",
   "execution_count": 4,
   "id": "242c6069-5df2-44fe-b70f-35ebed95f47f",
   "metadata": {},
   "outputs": [],
   "source": [
    "counts = [0]*26 # Start with a list of 0s for each letter\n",
    "\n",
    "def count_letters(s, counts):\n",
    "    s = s.lower() # move s to lower case\n",
    "    for c in s: # cycle through each character of s\n",
    "        if c!=' ':  # ignore spaces\n",
    "            counts[ord(c) - 97] += 1   ## ord() gives an integer representing the character -- note no puncutation in s!\n",
    "    "
   ]
  },
  {
   "cell_type": "code",
   "execution_count": 5,
   "id": "5c4c0646-e778-4a5d-9413-8a0e6505f0ad",
   "metadata": {},
   "outputs": [
    {
     "data": {
      "text/plain": [
       "[2, 0, 0, 3, 1, 0, 0, 2, 0, 0, 0, 1, 0, 0, 3, 0, 0, 0, 1, 2, 1, 0, 2, 0, 1, 0]"
      ]
     },
     "execution_count": 5,
     "metadata": {},
     "output_type": "execute_result"
    }
   ],
   "source": [
    "count_letters('What should we do today', counts)\n",
    "counts"
   ]
  },
  {
   "cell_type": "markdown",
   "id": "d709af3e-1936-4c99-9481-f7631c1217e1",
   "metadata": {},
   "source": [
    "Lists are restricted to only allow us to use the index to look up values:"
   ]
  },
  {
   "cell_type": "code",
   "execution_count": 7,
   "id": "f9e584bd-dfa4-41d6-accb-9b9af7a201d6",
   "metadata": {},
   "outputs": [
    {
     "data": {
      "text/plain": [
       "180"
      ]
     },
     "execution_count": 7,
     "metadata": {},
     "output_type": "execute_result"
    }
   ],
   "source": [
    "x = [10, 30, 60, 180, 90, 5]\n",
    "x[3] # we can only ask what is the value at a given position"
   ]
  },
  {
   "cell_type": "markdown",
   "id": "5cb29a46-dc6b-464b-9856-1f7bfa19fe5b",
   "metadata": {},
   "source": [
    "This is useful for a lot of problems, but not always the most useful thing we could have. For example in counting the number of times each letter is used, we could define position 0 to correspond to 'a', 1 to 'b', ...., 25 to 'z'. \n",
    "\n",
    "But wouldn't it be easier to just use 'a' as the key instead of having to *translate* it to an integer?\n",
    "\n",
    "A dictionary does exactly that for us, it generalizes a list to be something that uses an arbitrary key.\n"
   ]
  },
  {
   "cell_type": "code",
   "execution_count": 8,
   "id": "df56884f-dee6-4265-bf3d-766aa34fefc5",
   "metadata": {},
   "outputs": [],
   "source": [
    "x_dict = dict() # start with an empty dictionary\n",
    "x_dict['dog'] = 'pero' # add a key 'dog' with value 'perro'\n",
    "x_dict['cat'] = 'gato' \n",
    "x_dict['bird'] = 'pájaro'"
   ]
  },
  {
   "cell_type": "code",
   "execution_count": 9,
   "id": "b8d0b940-0459-476a-b5b4-8cb4039e883d",
   "metadata": {},
   "outputs": [
    {
     "data": {
      "text/plain": [
       "{'dog': 'pero', 'cat': 'gato', 'bird': 'pájaro'}"
      ]
     },
     "execution_count": 9,
     "metadata": {},
     "output_type": "execute_result"
    }
   ],
   "source": [
    "x_dict"
   ]
  },
  {
   "cell_type": "markdown",
   "id": "add232b6-0e29-411c-8719-9d88f6f6d5f4",
   "metadata": {},
   "source": [
    "Dictionaries are displayed as a set of key:value pairs. Lookup is the same syntax as looking up a list by index, except now the index must be a value coming from the keys:"
   ]
  },
  {
   "cell_type": "code",
   "execution_count": 10,
   "id": "bb37425b-a89f-428c-8d9f-51e3e39f2cdf",
   "metadata": {},
   "outputs": [
    {
     "data": {
      "text/plain": [
       "'pero'"
      ]
     },
     "execution_count": 10,
     "metadata": {},
     "output_type": "execute_result"
    }
   ],
   "source": [
    "x_dict['dog']"
   ]
  },
  {
   "cell_type": "code",
   "execution_count": 11,
   "id": "989f8620-fea6-403f-b4f7-7e6d6466f2a6",
   "metadata": {},
   "outputs": [
    {
     "ename": "KeyError",
     "evalue": "'zebra'",
     "output_type": "error",
     "traceback": [
      "\u001b[0;31m---------------------------------------------------------------------------\u001b[0m",
      "\u001b[0;31mKeyError\u001b[0m                                  Traceback (most recent call last)",
      "\u001b[0;32m<ipython-input-11-4abde969c58d>\u001b[0m in \u001b[0;36m<module>\u001b[0;34m\u001b[0m\n\u001b[1;32m      1\u001b[0m \u001b[0;31m# if you use a key that is not yet included, you get an error:\u001b[0m\u001b[0;34m\u001b[0m\u001b[0;34m\u001b[0m\u001b[0;34m\u001b[0m\u001b[0m\n\u001b[0;32m----> 2\u001b[0;31m \u001b[0mx_dict\u001b[0m\u001b[0;34m[\u001b[0m\u001b[0;34m'zebra'\u001b[0m\u001b[0;34m]\u001b[0m\u001b[0;34m\u001b[0m\u001b[0;34m\u001b[0m\u001b[0m\n\u001b[0m",
      "\u001b[0;31mKeyError\u001b[0m: 'zebra'"
     ]
    }
   ],
   "source": [
    "# if you use a key that is not yet included, you get an error:\n",
    "x_dict['zebra']"
   ]
  },
  {
   "cell_type": "markdown",
   "id": "aaaf0087-40be-41e1-ad9c-54e566de4b66",
   "metadata": {},
   "source": [
    "The methods dictionaries have:"
   ]
  },
  {
   "cell_type": "code",
   "execution_count": 12,
   "id": "f7968340-2202-4d4a-84df-cb108e0da864",
   "metadata": {},
   "outputs": [
    {
     "data": {
      "text/plain": [
       "['clear',\n",
       " 'copy',\n",
       " 'fromkeys',\n",
       " 'get',\n",
       " 'items',\n",
       " 'keys',\n",
       " 'pop',\n",
       " 'popitem',\n",
       " 'setdefault',\n",
       " 'update',\n",
       " 'values']"
      ]
     },
     "execution_count": 12,
     "metadata": {},
     "output_type": "execute_result"
    }
   ],
   "source": [
    "[x for x in dir(x_dict) if '_' != x[0] ]"
   ]
  },
  {
   "cell_type": "markdown",
   "id": "4ac53c4c-7755-4915-ae69-0bcd8e6e6742",
   "metadata": {},
   "source": [
    "The keys method lists the keys, the values method lists the values:"
   ]
  },
  {
   "cell_type": "code",
   "execution_count": 13,
   "id": "04c0354b-fc61-419e-8c43-61c03685f9e4",
   "metadata": {},
   "outputs": [
    {
     "data": {
      "text/plain": [
       "dict_keys(['dog', 'cat', 'bird'])"
      ]
     },
     "execution_count": 13,
     "metadata": {},
     "output_type": "execute_result"
    }
   ],
   "source": [
    "x_dict.keys()"
   ]
  },
  {
   "cell_type": "code",
   "execution_count": 14,
   "id": "ca1c0750-1844-4de9-ad0d-50a01d52adb5",
   "metadata": {},
   "outputs": [
    {
     "data": {
      "text/plain": [
       "dict_values(['pero', 'gato', 'pájaro'])"
      ]
     },
     "execution_count": 14,
     "metadata": {},
     "output_type": "execute_result"
    }
   ],
   "source": [
    "x_dict.values()"
   ]
  },
  {
   "cell_type": "markdown",
   "id": "7d7268ba-fd8d-4f5b-b691-86a0eb1142a7",
   "metadata": {},
   "source": [
    "The keys for a dictionary can be any immutable object in Python. Notice why we would not want to have a key that is mutable:  It's value might change and that does not make sense for a lookup!"
   ]
  },
  {
   "cell_type": "markdown",
   "id": "5c424ec5-11f8-4e34-8917-b5270f80574b",
   "metadata": {},
   "source": [
    "# Iterating Over a Dictionary\n",
    "\n",
    "Iterating over a dictionary with for, iterates over the valid keys:"
   ]
  },
  {
   "cell_type": "code",
   "execution_count": 17,
   "id": "bcd8f28d-afd7-44d3-b6a7-c03d181416d6",
   "metadata": {},
   "outputs": [
    {
     "data": {
      "text/plain": [
       "{'dog': 'PERO', 'cat': 'GATO', 'bird': 'PÁJARO'}"
      ]
     },
     "execution_count": 17,
     "metadata": {},
     "output_type": "execute_result"
    }
   ],
   "source": [
    "for key in x_dict:\n",
    "    x_dict[key] = x_dict[key].upper()\n",
    "    \n",
    "x_dict"
   ]
  },
  {
   "cell_type": "markdown",
   "id": "ec991c5f-1b57-4dc6-805c-879c52f90043",
   "metadata": {},
   "source": [
    "Note also that this example shows that dictionaries, like lists, are *mutable*."
   ]
  },
  {
   "cell_type": "markdown",
   "id": "0c5e1046-61d5-4658-a229-7bd7c7483072",
   "metadata": {},
   "source": [
    "# Counting Letters\n",
    "\n",
    "Let's write a function that updates a dictionary with how many times a letter has been used in a string. It will take an empty dictionary and only add a letter to it if it needs to:\n"
   ]
  },
  {
   "cell_type": "code",
   "execution_count": 18,
   "id": "6e6eb428-a427-4e7c-89d6-9d4d0e172503",
   "metadata": {},
   "outputs": [],
   "source": [
    "counts = dict() # Start with an empty dictionary\n",
    "\n",
    "def count_letters(s, counts):\n",
    "    s = s.lower()\n",
    "    \n",
    "    for c in s:\n",
    "        \n",
    "        if c in counts:\n",
    "            # If c is already a key incremement its counter\n",
    "            counts[c] += 1\n",
    "        else:\n",
    "            # If c is not already a key, initialize it with count 1\n",
    "            counts[c] = 1"
   ]
  },
  {
   "cell_type": "code",
   "execution_count": 19,
   "id": "a330d9c3-5ac2-4e0d-9a13-0f309c8f8d00",
   "metadata": {},
   "outputs": [],
   "source": [
    "count_letters('See spot run, spot is running!', counts)"
   ]
  },
  {
   "cell_type": "code",
   "execution_count": 20,
   "id": "54ba1e04-af11-46e2-a48a-eb6224c74e68",
   "metadata": {},
   "outputs": [
    {
     "data": {
      "text/plain": [
       "{'s': 4,\n",
       " 'e': 2,\n",
       " ' ': 5,\n",
       " 'p': 2,\n",
       " 'o': 2,\n",
       " 't': 2,\n",
       " 'r': 2,\n",
       " 'u': 2,\n",
       " 'n': 4,\n",
       " ',': 1,\n",
       " 'i': 2,\n",
       " 'g': 1,\n",
       " '!': 1}"
      ]
     },
     "execution_count": 20,
     "metadata": {},
     "output_type": "execute_result"
    }
   ],
   "source": [
    "counts"
   ]
  },
  {
   "cell_type": "markdown",
   "id": "752f2c46-c9d2-472b-afd0-197df490bae8",
   "metadata": {},
   "source": [
    "Note that one effect of this change is that the function now handles unanticiapted characters much better!\n",
    "\n",
    "We've written the function to use the mutability of dictionaries to allow us to call it repeatedly with the same dictionary, that lets us do things like count every character used in Hamlet:"
   ]
  },
  {
   "cell_type": "code",
   "execution_count": 21,
   "id": "36d7a0b2-df60-4a53-b2b0-88143265b325",
   "metadata": {},
   "outputs": [
    {
     "data": {
      "text/plain": [
       "{'*': 167,\n",
       " 't': 12098,\n",
       " 'h': 8692,\n",
       " 'e': 17900,\n",
       " ' ': 31175,\n",
       " 'p': 2130,\n",
       " 'r': 7976,\n",
       " 'o': 11459,\n",
       " 'j': 45,\n",
       " 'c': 2748,\n",
       " 'g': 2485,\n",
       " 'u': 4960,\n",
       " 'n': 8377,\n",
       " 'b': 1891,\n",
       " \"'\": 760,\n",
       " 's': 8299,\n",
       " 'x': 247,\n",
       " 'f': 2779,\n",
       " 'a': 9863,\n",
       " 'k': 1285,\n",
       " 'i': 8816,\n",
       " 'l': 5908,\n",
       " '\\r': 5302,\n",
       " '\\n': 5302,\n",
       " 'd': 5014,\n",
       " 'm': 4259,\n",
       " '3': 12,\n",
       " 'y': 3245,\n",
       " '.': 2052,\n",
       " 'w': 3049,\n",
       " 'v': 623,\n",
       " ',': 3051,\n",
       " '!': 30,\n",
       " '1': 24,\n",
       " '9': 12,\n",
       " '7': 3,\n",
       " '2': 21,\n",
       " '0': 40,\n",
       " '[': 25,\n",
       " '#': 1,\n",
       " '6': 7,\n",
       " '5': 3,\n",
       " ']': 25,\n",
       " 'z': 56,\n",
       " ':': 584,\n",
       " '(': 64,\n",
       " ')': 63,\n",
       " '$': 1,\n",
       " '-': 133,\n",
       " '4': 2,\n",
       " '+': 1,\n",
       " '%': 3,\n",
       " '=': 2,\n",
       " '~': 2,\n",
       " ';': 304,\n",
       " '\"': 50,\n",
       " '/': 13,\n",
       " '8': 2,\n",
       " '<': 1,\n",
       " '@': 7,\n",
       " '>': 1,\n",
       " '?': 464,\n",
       " 'q': 207,\n",
       " '_': 1,\n",
       " '&': 26}"
      ]
     },
     "execution_count": 21,
     "metadata": {},
     "output_type": "execute_result"
    }
   ],
   "source": [
    "from urllib.request import urlopen\n",
    "hamlet_file = urlopen('http://library.beau.org/gutenberg/etext00/0ws2610.txt')\n",
    "hamlet_counts = dict() #initialize an empty dictionary\n",
    "\n",
    "for line in hamlet_file:\n",
    "    count_letters(line.decode('utf-8'), hamlet_counts)\n",
    "    \n",
    "hamlet_counts"
   ]
  },
  {
   "cell_type": "markdown",
   "id": "9c430c96-d241-41a2-855b-b073693462ed",
   "metadata": {},
   "source": [
    "## Inverting a dictionary\n",
    "\n",
    "You could imagine that a useful thing to do, would be to invert a dictionary. For example to give a dictionary that takes the frequencies 1, 2, 3, ... and returns the set of letters that had that frequency."
   ]
  },
  {
   "cell_type": "code",
   "execution_count": 23,
   "id": "934fd729-e0bd-4620-aa3c-92fcd82fba03",
   "metadata": {},
   "outputs": [],
   "source": [
    "def invert_dict(input):\n",
    "    \n",
    "    output = dict()\n",
    "    \n",
    "    for key in input:\n",
    "        value = input[key]\n",
    "        if value in output:\n",
    "            output[value].add(key)\n",
    "        else:\n",
    "            output[value] = {key} \n",
    "            \n",
    "    return output"
   ]
  },
  {
   "cell_type": "code",
   "execution_count": 24,
   "id": "8b426159-6ab0-490c-98c2-3d425e20bca1",
   "metadata": {},
   "outputs": [
    {
     "data": {
      "text/plain": [
       "{4: {'n', 's'},\n",
       " 2: {'e', 'i', 'o', 'p', 'r', 't', 'u'},\n",
       " 5: {' '},\n",
       " 1: {'!', ',', 'g'}}"
      ]
     },
     "execution_count": 24,
     "metadata": {},
     "output_type": "execute_result"
    }
   ],
   "source": [
    "invert_dict(counts)"
   ]
  },
  {
   "cell_type": "markdown",
   "id": "5f6bdfc9-e0d6-4a1a-9527-d8f9e5449659",
   "metadata": {},
   "source": [
    "# Memos\n",
    "\n",
    "You might recall our first attempt at computing the fibonacci sequence did not work very well:"
   ]
  },
  {
   "cell_type": "code",
   "execution_count": 25,
   "id": "2bd2346b-9f41-40c2-a8c2-1de2eb8a6cbc",
   "metadata": {},
   "outputs": [],
   "source": [
    "def fibonacci(n):\n",
    "    \n",
    "    if n>1:\n",
    "        return fibonacci(n-1) + fibonacci(n-2)\n",
    "    elif n==1:\n",
    "        return 1\n",
    "    else:\n",
    "        return 0\n",
    "    \n"
   ]
  },
  {
   "cell_type": "code",
   "execution_count": 26,
   "id": "34929f00-6016-4c36-9fff-a98c7931182a",
   "metadata": {},
   "outputs": [
    {
     "data": {
      "text/plain": [
       "9227465"
      ]
     },
     "execution_count": 26,
     "metadata": {},
     "output_type": "execute_result"
    }
   ],
   "source": [
    "fibonacci(35)"
   ]
  },
  {
   "cell_type": "markdown",
   "id": "7346630a-ad5c-42e6-b257-8cde1a326147",
   "metadata": {},
   "source": [
    "The reason it does not do very well is the tree nature of the recursion for this function. It ends up calling itself for the same value of n over and over. This is very ineffecient.\n",
    "\n",
    "What would work better is if the function keeps track of the values it has computed and remembers them. This is called a *memo* and converting functions to do this is called *memoization*. \n",
    "\n",
    "By the way, this is a subtle issue that in mathematics we almost never worry about. \n",
    "\n",
    "We will use a global variable, a dictionary, fibonacci_memo to record the values of the fibonacci function we have already computed. When the function is called on some $n$, it will first check if this $n$ is in the dictionary and return that value, and only when it is not will it do the recursion step. It will also before it *returns* the value record it in the dictionary for future calls to use:"
   ]
  },
  {
   "cell_type": "code",
   "execution_count": 27,
   "id": "20e80799-3b1e-4c7d-b23d-43e5f703c334",
   "metadata": {},
   "outputs": [],
   "source": [
    "fibonacci_memo = dict()  # Start with an empty dictionary\n",
    "\n",
    "fibonacci_memo[0] = 0  # Initalize the fibonacci sequence by adding the first two values to the memo\n",
    "fibonacci_memo[1] = 1\n",
    "\n",
    "def fibonacci(n):\n",
    "    \n",
    "    # Check if the n is in the memo already - meaning we have already computed fibonacci(n):\n",
    "    if n in fibonacci_memo:\n",
    "        return fibonacci_memo[n] # and return the value we have computed\n",
    "    else:\n",
    "        # Otherwise we need to compute the value and return it\n",
    "        fibonacci_memo[n] = fibonacci(n-1) + fibonacci(n-2)\n",
    "        return fibonacci_memo[n]\n",
    "    "
   ]
  },
  {
   "cell_type": "markdown",
   "id": "3ae697c8-1ae5-449a-b304-abb60819b504",
   "metadata": {},
   "source": [
    "Test it, but you should see it is now substantially faster."
   ]
  },
  {
   "cell_type": "code",
   "execution_count": 28,
   "id": "ea576b56-a86e-4eaa-a1ab-86f393866924",
   "metadata": {},
   "outputs": [
    {
     "data": {
      "text/plain": [
       "9227465"
      ]
     },
     "execution_count": 28,
     "metadata": {},
     "output_type": "execute_result"
    }
   ],
   "source": [
    "fibonacci(35)"
   ]
  },
  {
   "cell_type": "code",
   "execution_count": 29,
   "id": "ee2bac34-65b6-425d-b90a-1107f33b46e8",
   "metadata": {},
   "outputs": [
    {
     "data": {
      "text/plain": [
       "3928413764606871165730"
      ]
     },
     "execution_count": 29,
     "metadata": {},
     "output_type": "execute_result"
    }
   ],
   "source": [
    "fibonacci(105) # We can now compute much larger values very fast"
   ]
  },
  {
   "cell_type": "code",
   "execution_count": 30,
   "id": "decd970e-5860-43d8-8c03-e7ba93e6f3d4",
   "metadata": {},
   "outputs": [
    {
     "data": {
      "text/plain": [
       "{0: 0,\n",
       " 1: 1,\n",
       " 2: 1,\n",
       " 3: 2,\n",
       " 4: 3,\n",
       " 5: 5,\n",
       " 6: 8,\n",
       " 7: 13,\n",
       " 8: 21,\n",
       " 9: 34,\n",
       " 10: 55,\n",
       " 11: 89,\n",
       " 12: 144,\n",
       " 13: 233,\n",
       " 14: 377,\n",
       " 15: 610,\n",
       " 16: 987,\n",
       " 17: 1597,\n",
       " 18: 2584,\n",
       " 19: 4181,\n",
       " 20: 6765,\n",
       " 21: 10946,\n",
       " 22: 17711,\n",
       " 23: 28657,\n",
       " 24: 46368,\n",
       " 25: 75025,\n",
       " 26: 121393,\n",
       " 27: 196418,\n",
       " 28: 317811,\n",
       " 29: 514229,\n",
       " 30: 832040,\n",
       " 31: 1346269,\n",
       " 32: 2178309,\n",
       " 33: 3524578,\n",
       " 34: 5702887,\n",
       " 35: 9227465,\n",
       " 36: 14930352,\n",
       " 37: 24157817,\n",
       " 38: 39088169,\n",
       " 39: 63245986,\n",
       " 40: 102334155,\n",
       " 41: 165580141,\n",
       " 42: 267914296,\n",
       " 43: 433494437,\n",
       " 44: 701408733,\n",
       " 45: 1134903170,\n",
       " 46: 1836311903,\n",
       " 47: 2971215073,\n",
       " 48: 4807526976,\n",
       " 49: 7778742049,\n",
       " 50: 12586269025,\n",
       " 51: 20365011074,\n",
       " 52: 32951280099,\n",
       " 53: 53316291173,\n",
       " 54: 86267571272,\n",
       " 55: 139583862445,\n",
       " 56: 225851433717,\n",
       " 57: 365435296162,\n",
       " 58: 591286729879,\n",
       " 59: 956722026041,\n",
       " 60: 1548008755920,\n",
       " 61: 2504730781961,\n",
       " 62: 4052739537881,\n",
       " 63: 6557470319842,\n",
       " 64: 10610209857723,\n",
       " 65: 17167680177565,\n",
       " 66: 27777890035288,\n",
       " 67: 44945570212853,\n",
       " 68: 72723460248141,\n",
       " 69: 117669030460994,\n",
       " 70: 190392490709135,\n",
       " 71: 308061521170129,\n",
       " 72: 498454011879264,\n",
       " 73: 806515533049393,\n",
       " 74: 1304969544928657,\n",
       " 75: 2111485077978050,\n",
       " 76: 3416454622906707,\n",
       " 77: 5527939700884757,\n",
       " 78: 8944394323791464,\n",
       " 79: 14472334024676221,\n",
       " 80: 23416728348467685,\n",
       " 81: 37889062373143906,\n",
       " 82: 61305790721611591,\n",
       " 83: 99194853094755497,\n",
       " 84: 160500643816367088,\n",
       " 85: 259695496911122585,\n",
       " 86: 420196140727489673,\n",
       " 87: 679891637638612258,\n",
       " 88: 1100087778366101931,\n",
       " 89: 1779979416004714189,\n",
       " 90: 2880067194370816120,\n",
       " 91: 4660046610375530309,\n",
       " 92: 7540113804746346429,\n",
       " 93: 12200160415121876738,\n",
       " 94: 19740274219868223167,\n",
       " 95: 31940434634990099905,\n",
       " 96: 51680708854858323072,\n",
       " 97: 83621143489848422977,\n",
       " 98: 135301852344706746049,\n",
       " 99: 218922995834555169026,\n",
       " 100: 354224848179261915075,\n",
       " 101: 573147844013817084101,\n",
       " 102: 927372692193078999176,\n",
       " 103: 1500520536206896083277,\n",
       " 104: 2427893228399975082453,\n",
       " 105: 3928413764606871165730}"
      ]
     },
     "execution_count": 30,
     "metadata": {},
     "output_type": "execute_result"
    }
   ],
   "source": [
    "# The memo remembers all of the values we have computed:\n",
    "\n",
    "fibonacci_memo"
   ]
  },
  {
   "cell_type": "code",
   "execution_count": null,
   "id": "1befb230-34ed-412b-82e3-a9768fc65f64",
   "metadata": {},
   "outputs": [],
   "source": []
  }
 ],
 "metadata": {
  "kernelspec": {
   "display_name": "Python 3",
   "language": "python",
   "name": "python3"
  },
  "language_info": {
   "codemirror_mode": {
    "name": "ipython",
    "version": 3
   },
   "file_extension": ".py",
   "mimetype": "text/x-python",
   "name": "python",
   "nbconvert_exporter": "python",
   "pygments_lexer": "ipython3",
   "version": "3.9.5"
  }
 },
 "nbformat": 4,
 "nbformat_minor": 5
}
