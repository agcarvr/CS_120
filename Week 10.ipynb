{
 "cells": [
  {
   "cell_type": "markdown",
   "id": "22859c21-5d17-4517-916c-ce22e59654cf",
   "metadata": {},
   "source": [
    "# Sets\n",
    "\n",
    "Python includes a builtin type called *sets* that are a generalization of lists to the situation where:  order no longer matters and repetition is not allowed. \n",
    "\n",
    "We define sets using curly brackets; or they can be converted from lists:"
   ]
  },
  {
   "cell_type": "code",
   "execution_count": 2,
   "id": "c2827718-fb82-4e7c-836d-f115cd0051f0",
   "metadata": {},
   "outputs": [
    {
     "data": {
      "text/plain": [
       "{1, 10, 100, 1000}"
      ]
     },
     "execution_count": 2,
     "metadata": {},
     "output_type": "execute_result"
    }
   ],
   "source": [
    "set1 = {1, 10, 100, 1000}\n",
    "set1"
   ]
  },
  {
   "cell_type": "code",
   "execution_count": 3,
   "id": "dc6d9415-9173-4583-8c96-442a08517540",
   "metadata": {},
   "outputs": [
    {
     "data": {
      "text/plain": [
       "{'add',\n",
       " 'clear',\n",
       " 'copy',\n",
       " 'difference',\n",
       " 'difference_update',\n",
       " 'discard',\n",
       " 'intersection',\n",
       " 'intersection_update',\n",
       " 'isdisjoint',\n",
       " 'issubset',\n",
       " 'issuperset',\n",
       " 'pop',\n",
       " 'remove',\n",
       " 'symmetric_difference',\n",
       " 'symmetric_difference_update',\n",
       " 'union',\n",
       " 'update'}"
      ]
     },
     "execution_count": 3,
     "metadata": {},
     "output_type": "execute_result"
    }
   ],
   "source": [
    "set2 = set( [x for x in dir(set) if '_' != x[0] ] ) # Makes a set from the list generator expression\n",
    "set2"
   ]
  },
  {
   "cell_type": "markdown",
   "id": "6850f8ed-9172-465f-9daf-50caecde11c3",
   "metadata": {},
   "source": [
    "Like wise we can also convert sets into lists:"
   ]
  },
  {
   "cell_type": "code",
   "execution_count": 4,
   "id": "36b7d02b-f850-4088-b830-7677c27ccac7",
   "metadata": {},
   "outputs": [],
   "source": [
    "a = list( set1 )"
   ]
  },
  {
   "cell_type": "markdown",
   "id": "bc3f05b2-2c4e-46a1-aebb-07fddb396dd7",
   "metadata": {},
   "source": [
    "However note because the order of a set does not matter, the order of the list we get will be arbitrary - the actual order a set is displayed depends on the computer we are using."
   ]
  },
  {
   "cell_type": "code",
   "execution_count": 5,
   "id": "8bec2416-db39-4562-9096-d371df07c454",
   "metadata": {},
   "outputs": [
    {
     "data": {
      "text/plain": [
       "True"
      ]
     },
     "execution_count": 5,
     "metadata": {},
     "output_type": "execute_result"
    }
   ],
   "source": [
    "# Order does not matter\n",
    "\n",
    "{ 'dog', 'cat', 'bird' } == {'cat', 'dog', 'bird'}"
   ]
  },
  {
   "cell_type": "markdown",
   "id": "13e524cf-64cc-4b02-aa4d-70cbb3b7b630",
   "metadata": {},
   "source": [
    "Sets are mutable, and some of the methods will modify a set in place:"
   ]
  },
  {
   "cell_type": "code",
   "execution_count": 6,
   "id": "0be0d9a5-e53d-4773-bed1-2952b9d6c333",
   "metadata": {},
   "outputs": [
    {
     "data": {
      "text/plain": [
       "{2, 3}"
      ]
     },
     "execution_count": 6,
     "metadata": {},
     "output_type": "execute_result"
    }
   ],
   "source": [
    "x = {2, 3, 4}\n",
    "x.discard(4)\n",
    "x"
   ]
  },
  {
   "cell_type": "markdown",
   "id": "3db7f36c-8bc3-43df-a607-cfb1e23046aa",
   "metadata": {},
   "source": [
    "The main thing I use sets for is if I want to get the unique elements from a list:\n"
   ]
  },
  {
   "cell_type": "code",
   "execution_count": 7,
   "id": "230d50b8-d433-4389-91e0-b2b93f363dd7",
   "metadata": {},
   "outputs": [
    {
     "data": {
      "text/plain": [
       "['dog', 'cat', 'bird', 'cat', 'cat', 'dog', 'cow', 'chicken']"
      ]
     },
     "execution_count": 7,
     "metadata": {},
     "output_type": "execute_result"
    }
   ],
   "source": [
    "pets = ['dog', 'cat', 'bird', 'cat', 'cat', 'dog', 'cow', 'chicken']\n",
    "pets"
   ]
  },
  {
   "cell_type": "code",
   "execution_count": 8,
   "id": "c1c2e498-f0f2-4700-893b-87f7290c45d0",
   "metadata": {},
   "outputs": [
    {
     "data": {
      "text/plain": [
       "{'bird', 'cat', 'chicken', 'cow', 'dog'}"
      ]
     },
     "execution_count": 8,
     "metadata": {},
     "output_type": "execute_result"
    }
   ],
   "source": [
    "unique_pets = set(pets)\n",
    "unique_pets"
   ]
  },
  {
   "cell_type": "markdown",
   "id": "b7bbfbd6-7e31-4275-aac2-e9360328cdda",
   "metadata": {},
   "source": [
    "Because sets are not uniquely ordered, they are not interable, so you can't use a for loop to do something to each element of a set - you would need to first convert it to a list."
   ]
  },
  {
   "cell_type": "markdown",
   "id": "b32b3a5a-cd5a-45a9-a241-b0a3f600cc56",
   "metadata": {},
   "source": [
    "# Dictionaries\n",
    "\n",
    "A very useful type in Python is a dictionary. To see how useful it is consider the following problem:\n",
    "\n",
    "Suppose we want to write a function that takes a string and counts how many times each letter in the alphabet is used? What would we do with the tools we have now?"
   ]
  },
  {
   "cell_type": "markdown",
   "id": "e31afa8c-2795-4223-9896-09f0690c7b84",
   "metadata": {},
   "source": []
  },
  {
   "cell_type": "markdown",
   "id": "d709af3e-1936-4c99-9481-f7631c1217e1",
   "metadata": {},
   "source": [
    "Lists are restricted to only allow us to use the index to look up values:"
   ]
  },
  {
   "cell_type": "code",
   "execution_count": 9,
   "id": "f9e584bd-dfa4-41d6-accb-9b9af7a201d6",
   "metadata": {},
   "outputs": [
    {
     "data": {
      "text/plain": [
       "180"
      ]
     },
     "execution_count": 9,
     "metadata": {},
     "output_type": "execute_result"
    }
   ],
   "source": [
    "x = [10, 30, 60, 180, 90, 5]\n",
    "x[3] # we can only ask what is the value at a given position"
   ]
  },
  {
   "cell_type": "markdown",
   "id": "5cb29a46-dc6b-464b-9856-1f7bfa19fe5b",
   "metadata": {},
   "source": [
    "This is useful for a lot of problems, but not always the most useful thing we could have. For example in counting the number of times each letter is used, we could define position 0 to correspond to 'a', 1 to 'b', ...., 25 to 'z'. \n",
    "\n",
    "But wouldn't it be easier to just use 'a' as the key instead of having to *translate* it to an integer?\n",
    "\n",
    "A dictionary does exactly that for us, it generalizes a list to be something that uses an arbitrary key.\n"
   ]
  },
  {
   "cell_type": "code",
   "execution_count": 10,
   "id": "df56884f-dee6-4265-bf3d-766aa34fefc5",
   "metadata": {},
   "outputs": [],
   "source": [
    "x_dict = dict() # start with an empty dictionary\n",
    "x_dict['a'] = 1 # add a key 'a' with value 1\n",
    "x_dict['b'] = 3 \n",
    "x_dict['c'] = 10"
   ]
  },
  {
   "cell_type": "code",
   "execution_count": 11,
   "id": "b8d0b940-0459-476a-b5b4-8cb4039e883d",
   "metadata": {},
   "outputs": [
    {
     "data": {
      "text/plain": [
       "{'a': 1, 'b': 3, 'c': 10}"
      ]
     },
     "execution_count": 11,
     "metadata": {},
     "output_type": "execute_result"
    }
   ],
   "source": [
    "x_dict"
   ]
  },
  {
   "cell_type": "markdown",
   "id": "add232b6-0e29-411c-8719-9d88f6f6d5f4",
   "metadata": {},
   "source": [
    "Dictionaries are displayed as a set of key:value pairs. Lookup is the same syntax as looking up a list by index, except now the index must be a value coming from the keys:"
   ]
  },
  {
   "cell_type": "code",
   "execution_count": 12,
   "id": "bb37425b-a89f-428c-8d9f-51e3e39f2cdf",
   "metadata": {},
   "outputs": [
    {
     "data": {
      "text/plain": [
       "1"
      ]
     },
     "execution_count": 12,
     "metadata": {},
     "output_type": "execute_result"
    }
   ],
   "source": [
    "x_dict['a']"
   ]
  },
  {
   "cell_type": "code",
   "execution_count": 13,
   "id": "989f8620-fea6-403f-b4f7-7e6d6466f2a6",
   "metadata": {},
   "outputs": [
    {
     "ename": "KeyError",
     "evalue": "'z'",
     "output_type": "error",
     "traceback": [
      "\u001b[0;31m---------------------------------------------------------------------------\u001b[0m",
      "\u001b[0;31mKeyError\u001b[0m                                  Traceback (most recent call last)",
      "\u001b[0;32m<ipython-input-13-548a4d4d12c1>\u001b[0m in \u001b[0;36m<module>\u001b[0;34m\u001b[0m\n\u001b[1;32m      1\u001b[0m \u001b[0;31m# if you use a key that is not yet included, you get an error:\u001b[0m\u001b[0;34m\u001b[0m\u001b[0;34m\u001b[0m\u001b[0;34m\u001b[0m\u001b[0m\n\u001b[0;32m----> 2\u001b[0;31m \u001b[0mx_dict\u001b[0m\u001b[0;34m[\u001b[0m\u001b[0;34m'z'\u001b[0m\u001b[0;34m]\u001b[0m\u001b[0;34m\u001b[0m\u001b[0;34m\u001b[0m\u001b[0m\n\u001b[0m",
      "\u001b[0;31mKeyError\u001b[0m: 'z'"
     ]
    }
   ],
   "source": [
    "# if you use a key that is not yet included, you get an error:\n",
    "x_dict['z']"
   ]
  },
  {
   "cell_type": "markdown",
   "id": "aaaf0087-40be-41e1-ad9c-54e566de4b66",
   "metadata": {},
   "source": [
    "The methods dictionaries have:"
   ]
  },
  {
   "cell_type": "code",
   "execution_count": 14,
   "id": "f7968340-2202-4d4a-84df-cb108e0da864",
   "metadata": {},
   "outputs": [
    {
     "data": {
      "text/plain": [
       "['clear',\n",
       " 'copy',\n",
       " 'fromkeys',\n",
       " 'get',\n",
       " 'items',\n",
       " 'keys',\n",
       " 'pop',\n",
       " 'popitem',\n",
       " 'setdefault',\n",
       " 'update',\n",
       " 'values']"
      ]
     },
     "execution_count": 14,
     "metadata": {},
     "output_type": "execute_result"
    }
   ],
   "source": [
    "[x for x in dir(x_dict) if '_' != x[0] ]"
   ]
  },
  {
   "cell_type": "markdown",
   "id": "4ac53c4c-7755-4915-ae69-0bcd8e6e6742",
   "metadata": {},
   "source": [
    "The keys method lists the keys, the values method lists the values:"
   ]
  },
  {
   "cell_type": "code",
   "execution_count": 16,
   "id": "04c0354b-fc61-419e-8c43-61c03685f9e4",
   "metadata": {},
   "outputs": [
    {
     "data": {
      "text/plain": [
       "dict_keys(['a', 'b', 'c'])"
      ]
     },
     "execution_count": 16,
     "metadata": {},
     "output_type": "execute_result"
    }
   ],
   "source": [
    "x_dict.keys()"
   ]
  },
  {
   "cell_type": "code",
   "execution_count": 17,
   "id": "ca1c0750-1844-4de9-ad0d-50a01d52adb5",
   "metadata": {},
   "outputs": [
    {
     "data": {
      "text/plain": [
       "dict_values([1, 3, 10])"
      ]
     },
     "execution_count": 17,
     "metadata": {},
     "output_type": "execute_result"
    }
   ],
   "source": [
    "x_dict.values()"
   ]
  },
  {
   "cell_type": "markdown",
   "id": "5c424ec5-11f8-4e34-8917-b5270f80574b",
   "metadata": {},
   "source": [
    "# Iterating Over a Dictionary\n",
    "\n",
    "Iterating over a dictionary with for, iterates over the valid keys:"
   ]
  },
  {
   "cell_type": "code",
   "execution_count": 20,
   "id": "bcd8f28d-afd7-44d3-b6a7-c03d181416d6",
   "metadata": {},
   "outputs": [
    {
     "data": {
      "text/plain": [
       "{'a': 2, 'b': 4, 'c': 11}"
      ]
     },
     "execution_count": 20,
     "metadata": {},
     "output_type": "execute_result"
    }
   ],
   "source": []
  },
  {
   "cell_type": "markdown",
   "id": "ec991c5f-1b57-4dc6-805c-879c52f90043",
   "metadata": {},
   "source": [
    "Note also that this example shows that dictionaries, like lists, are *mutable*."
   ]
  },
  {
   "cell_type": "markdown",
   "id": "0c5e1046-61d5-4658-a229-7bd7c7483072",
   "metadata": {},
   "source": [
    "# Counting Letters\n",
    "\n",
    "Let's write a function that updates a dictionary with how many times a letter has been used in a string. It will take an empty dictionary and only add a letter to it if it needs to:\n"
   ]
  },
  {
   "cell_type": "code",
   "execution_count": 45,
   "id": "6e6eb428-a427-4e7c-89d6-9d4d0e172503",
   "metadata": {},
   "outputs": [],
   "source": []
  },
  {
   "cell_type": "markdown",
   "id": "9c430c96-d241-41a2-855b-b073693462ed",
   "metadata": {},
   "source": [
    "## Inverting a dictionary\n",
    "\n",
    "You could imagine that a useful thing to do, would be to invert a dictionary. For example to give a dictionary that takes the frequencies 1, 2, 3, ... and returns the set of letters that had that frequency."
   ]
  },
  {
   "cell_type": "code",
   "execution_count": 41,
   "id": "934fd729-e0bd-4620-aa3c-92fcd82fba03",
   "metadata": {},
   "outputs": [],
   "source": []
  },
  {
   "cell_type": "markdown",
   "id": "5f6bdfc9-e0d6-4a1a-9527-d8f9e5449659",
   "metadata": {},
   "source": [
    "# Memos\n",
    "\n",
    "You might recall our first attempt at computing the fibonacci sequence did not work very well:"
   ]
  },
  {
   "cell_type": "code",
   "execution_count": 49,
   "id": "2bd2346b-9f41-40c2-a8c2-1de2eb8a6cbc",
   "metadata": {},
   "outputs": [],
   "source": [
    "def fibonacci(n):\n",
    "    \n",
    "    if n>1:\n",
    "        return fibonacci(n-1) + fibonacci(n-2)\n",
    "    elif n==1:\n",
    "        return 1\n",
    "    else:\n",
    "        return 0\n",
    "    \n"
   ]
  },
  {
   "cell_type": "code",
   "execution_count": 58,
   "id": "34929f00-6016-4c36-9fff-a98c7931182a",
   "metadata": {},
   "outputs": [
    {
     "data": {
      "text/plain": [
       "9227465"
      ]
     },
     "execution_count": 58,
     "metadata": {},
     "output_type": "execute_result"
    }
   ],
   "source": [
    "fibonacci(35)"
   ]
  },
  {
   "cell_type": "markdown",
   "id": "7346630a-ad5c-42e6-b257-8cde1a326147",
   "metadata": {},
   "source": [
    "The reason it does not do very well is the tree nature of the recursion for this function. It ends up calling itself for the same value of n over and over. This is very ineffecient.\n",
    "\n",
    "What would work better is if the function keeps track of the values it has computed and remembers them. This is called a *memo* and converting functions to do this is called *memoization*. \n",
    "\n",
    "By the way, this is a subtle issue that in mathematics we almost never worry about. \n",
    "\n",
    "We will use a global variable, a dictionary, fibonacci.known to record the values of the fibonacci function we have already computed. When the function is called on some $n$, it will first check if this $n$ is in the dictionary and return that value, and only when it is not will it do the recursion step. It will also before it *returns* the value record it in the dictionary for future calls to use:"
   ]
  },
  {
   "cell_type": "code",
   "execution_count": 62,
   "id": "20e80799-3b1e-4c7d-b23d-43e5f703c334",
   "metadata": {},
   "outputs": [],
   "source": []
  },
  {
   "cell_type": "markdown",
   "id": "3ae697c8-1ae5-449a-b304-abb60819b504",
   "metadata": {},
   "source": [
    "Test it, but you should see it is now substantially faster."
   ]
  },
  {
   "cell_type": "code",
   "execution_count": null,
   "id": "ea576b56-a86e-4eaa-a1ab-86f393866924",
   "metadata": {},
   "outputs": [],
   "source": []
  }
 ],
 "metadata": {
  "kernelspec": {
   "display_name": "Python 3",
   "language": "python",
   "name": "python3"
  },
  "language_info": {
   "codemirror_mode": {
    "name": "ipython",
    "version": 3
   },
   "file_extension": ".py",
   "mimetype": "text/x-python",
   "name": "python",
   "nbconvert_exporter": "python",
   "pygments_lexer": "ipython3",
   "version": "3.9.5"
  }
 },
 "nbformat": 4,
 "nbformat_minor": 5
}
