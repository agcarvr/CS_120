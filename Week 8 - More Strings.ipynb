{
 "cells": [
  {
   "cell_type": "markdown",
   "id": "2f3cead9-27dd-4ab0-87e8-8d1108d95a60",
   "metadata": {},
   "source": [
    "# More Strings\n",
    "\n",
    "Arguably one of the things Python does best is strings. It is capable of processing large strings en mass and doing operations on them. \n",
    "\n",
    "Today we will analyze a list of *puzzle words* that was compiled as part of the Moby lexicon project. This will also be our first example of Python working with files from our computer.\n",
    "\n",
    "To start - you need to get a copy of these notes and the file with our data \"CROSSWD.TXT\" into the same directory.\n",
    "\n",
    "## Jupyter\n",
    "\n",
    "On Jupyter this is as simple as - before you open a notebook, uploading the .TXT file to the directory you are in.\n",
    "\n",
    "## Google Colab\n",
    "\n",
    "On Google Colab you need to upload this text file to your Google Drive account in the *Colab Notebooks* folder."
   ]
  },
  {
   "cell_type": "code",
   "execution_count": null,
   "id": "2491cadc-9408-46ad-bc1f-9d0e34f1bfe1",
   "metadata": {},
   "outputs": [],
   "source": [
    "words_file = open('CROSSWD.TXT')\n",
    "# open creates a file object in Python for us to manipulate"
   ]
  },
  {
   "cell_type": "code",
   "execution_count": null,
   "id": "09a35ff5-3e9b-4e4b-a02e-4423492563f2",
   "metadata": {},
   "outputs": [],
   "source": [
    "type(words_file)\n",
    "# The type indicates that it is an Input/Output stream"
   ]
  },
  {
   "cell_type": "code",
   "execution_count": null,
   "id": "ede0893d-f7a0-4be5-8ace-3647e58ffe0c",
   "metadata": {},
   "outputs": [],
   "source": [
    "[x for x in dir(words_file) if '__' not in x]\n",
    "# Let's check what methods we have"
   ]
  },
  {
   "cell_type": "code",
   "execution_count": null,
   "id": "633b32e3-e59d-44b8-8963-74a65f5878a5",
   "metadata": {},
   "outputs": [],
   "source": [
    "help(words_file.readline)\n",
    "# we can get information about a method"
   ]
  },
  {
   "cell_type": "code",
   "execution_count": null,
   "id": "714f68bd-128f-4f4b-b461-2cb9974b969d",
   "metadata": {},
   "outputs": [],
   "source": [
    "words_file.readline()\n",
    "# each time we execute .readline() it reads the next line in the file as a string. Try it."
   ]
  },
  {
   "cell_type": "markdown",
   "id": "d51dcf14-1dc6-455c-adfd-8ea0796b5feb",
   "metadata": {},
   "source": [
    "We don't really need the '\\n' new line character and we can use the .strip() method to remove it:"
   ]
  },
  {
   "cell_type": "code",
   "execution_count": null,
   "id": "0b760bd4-02c8-42d4-b070-cf8b2df0fe3c",
   "metadata": {},
   "outputs": [],
   "source": [
    "words_file.readline().strip()\n",
    "# Note that we can just string together methods - and you can start to see the reason they are written as .method()"
   ]
  },
  {
   "cell_type": "markdown",
   "id": "0c2c6d61-8985-4993-9855-e5cf128bb51e",
   "metadata": {},
   "source": [
    "Even better, the file object is an iterable:  meaning we can use it in a for loop:  Note if you execute the command that follows, you will probably have to use Interupt to stop it unless you want to wait a long time."
   ]
  },
  {
   "cell_type": "code",
   "execution_count": null,
   "id": "18524e7a-05c3-4471-abc9-ec94db2b3cd3",
   "metadata": {},
   "outputs": [],
   "source": [
    "for line in words_file:\n",
    "    word = line.strip()\n",
    "    print(word)"
   ]
  },
  {
   "cell_type": "markdown",
   "id": "026d6b07-98af-4e2d-8f91-ab675af06878",
   "metadata": {},
   "source": [
    "## Program 1\n",
    "\n",
    "Write a program that reads CROSSWD.TXT and prints only the words with more than 20 characters."
   ]
  },
  {
   "cell_type": "code",
   "execution_count": null,
   "id": "bc7e3242-be45-471f-979a-b2580bb17d75",
   "metadata": {},
   "outputs": [],
   "source": []
  },
  {
   "cell_type": "markdown",
   "id": "e039e002-b222-439f-b9b2-f5a211857679",
   "metadata": {},
   "source": [
    "## Program 2\n",
    "\n",
    "Write a function called *has_no_e* that takes a word and returns True if it has no e and False if it has an e.  \n",
    "\n",
    "Then modify your Program 1 to print all the words that have no e."
   ]
  },
  {
   "cell_type": "code",
   "execution_count": null,
   "id": "0737df63-3413-47eb-8499-78c9a9e58565",
   "metadata": {},
   "outputs": [],
   "source": []
  },
  {
   "cell_type": "markdown",
   "id": "3e644e0f-801f-4e3f-b4fe-787643370e48",
   "metadata": {},
   "source": [
    "## Program 3\n",
    "\n",
    "Write a function named *uses_only* that takes a word and a string of letters and returns True only if the word uses letters from the list.\n",
    "\n",
    "Then modify Program 1 so that you can construct a sentence that uses the only the letters 'asdfjkl' if possible."
   ]
  },
  {
   "cell_type": "code",
   "execution_count": null,
   "id": "9841100d-8865-4be7-9aaa-37b884870e66",
   "metadata": {},
   "outputs": [],
   "source": []
  },
  {
   "cell_type": "markdown",
   "id": "2cfad954-d66e-48c3-92e1-6db61548efbe",
   "metadata": {},
   "source": [
    "## Program 4 \n",
    "\n",
    "Write a function named *uses_all* that takes a word and a string of letters and returns True if the word uses all of the letters from the list at least once but also uses any other letters.\n",
    "\n",
    "How many words are there that use all of the vowels 'aeiou'?  How about 'aeiouy'?"
   ]
  },
  {
   "cell_type": "code",
   "execution_count": null,
   "id": "ee0d0914-2f42-41be-ba86-856c2985446f",
   "metadata": {},
   "outputs": [],
   "source": []
  },
  {
   "cell_type": "markdown",
   "id": "d2560a03-49ef-497c-b3ea-58a8783f08dc",
   "metadata": {},
   "source": [
    "## Program 5\n",
    "\n",
    "Write a function called *is_alphabetical* that retursn True if the letters in a word appear in alphabetical order."
   ]
  },
  {
   "cell_type": "code",
   "execution_count": null,
   "id": "2348ec0e-3547-4d46-ab1b-5cc4ef0bcf0b",
   "metadata": {},
   "outputs": [],
   "source": []
  },
  {
   "cell_type": "code",
   "execution_count": null,
   "id": "9c43c8fb-3ac8-4948-8bb4-f0c44f3283c6",
   "metadata": {},
   "outputs": [],
   "source": []
  }
 ],
 "metadata": {
  "kernelspec": {
   "display_name": "Python 3",
   "language": "python",
   "name": "python3"
  },
  "language_info": {
   "codemirror_mode": {
    "name": "ipython",
    "version": 3
   },
   "file_extension": ".py",
   "mimetype": "text/x-python",
   "name": "python",
   "nbconvert_exporter": "python",
   "pygments_lexer": "ipython3",
   "version": "3.9.5"
  }
 },
 "nbformat": 4,
 "nbformat_minor": 5
}
