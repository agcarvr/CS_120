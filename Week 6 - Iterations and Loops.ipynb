{
 "cells": [
  {
   "cell_type": "markdown",
   "id": "3ef7b322-467f-4a66-a975-66f9e8596601",
   "metadata": {
    "tags": []
   },
   "source": [
    "# Iterations and Loops\n",
    "\n",
    "Let's review what we have learned so far.\n",
    "\n",
    "We can write functions that refer to themselves. And this gives us a way of repeating a computation multiple times. Suppose we want to compute \n",
    "\n",
    "$$ \\sum_{n=0}^5 2^n = 1 + 2^1 + 2^2 + 2^3 + 2^4 + 2^5 $$"
   ]
  },
  {
   "cell_type": "code",
   "execution_count": 2,
   "id": "ba67dff2-6b38-409f-9b81-5d856ca78e73",
   "metadata": {},
   "outputs": [],
   "source": [
    "def sum_powers(n, a):\n",
    "    \n",
    "    if n == 0:\n",
    "        return 1\n",
    "    else:\n",
    "        return a**n + sum_powers(n-1, a)"
   ]
  },
  {
   "cell_type": "code",
   "execution_count": 5,
   "id": "162959e2-601e-4fea-b5e5-c5c543b72b17",
   "metadata": {},
   "outputs": [
    {
     "data": {
      "text/plain": [
       "2047"
      ]
     },
     "execution_count": 5,
     "metadata": {},
     "output_type": "execute_result"
    }
   ],
   "source": [
    "sum_powers(10, 2)"
   ]
  },
  {
   "cell_type": "markdown",
   "id": "a49bc635-4b34-4daf-9d64-b97ab7da422e",
   "metadata": {},
   "source": [
    "Essentially this gives us code that loops through itself until it reaches the termination **OR** until it hits the limitation MAX_RECURSION.\n",
    "\n",
    "However what are some problems you have noticed?"
   ]
  },
  {
   "cell_type": "code",
   "execution_count": null,
   "id": "6a6bde79-b271-40d1-8448-6061eb68725a",
   "metadata": {},
   "outputs": [],
   "source": [
    "\n",
    "\n",
    "\n",
    "\n",
    "\n",
    "\n",
    "\n"
   ]
  },
  {
   "cell_type": "markdown",
   "id": "2af66e1f-090e-4526-9b30-62ef16f8a98c",
   "metadata": {},
   "source": [
    "## What if the Pattern Changes\n",
    "\n",
    "In the example above there is a specified formula for the expression we are summing up. But that is not always the case. For example what if we want to sum up the first 20 prime numbers?  There is no formula for them. \n",
    "\n",
    "### Lists\n",
    "\n",
    "Enter lists. Lists in Python let us assemble objects (integers, floats, strings, lists themselves) into an ordered sequence:\n"
   ]
  },
  {
   "cell_type": "code",
   "execution_count": 20,
   "id": "5bcae25a-4b44-4065-895c-e7b195257377",
   "metadata": {},
   "outputs": [],
   "source": [
    "list_of_integers = list(range(0, 100))"
   ]
  },
  {
   "cell_type": "markdown",
   "id": "f9b04dad-01a6-4071-ba91-74bc7d86f9cb",
   "metadata": {},
   "source": [
    "#### Slices\n",
    "\n",
    "A principle thing we need to do is take parts of a list out. These are called *slices*:"
   ]
  },
  {
   "cell_type": "code",
   "execution_count": 21,
   "id": "18197545-19b2-4d6e-a625-372dbb5d27c6",
   "metadata": {},
   "outputs": [
    {
     "data": {
      "text/plain": [
       "[0, 1, 2, 3, 4, 5, 6, 7, 8, 9]"
      ]
     },
     "execution_count": 21,
     "metadata": {},
     "output_type": "execute_result"
    }
   ],
   "source": [
    "list_of_integers[:10]\n",
    "# The first 10"
   ]
  },
  {
   "cell_type": "code",
   "execution_count": 22,
   "id": "2b89632a-9264-4bb5-af54-8938769ea3ea",
   "metadata": {},
   "outputs": [
    {
     "data": {
      "text/plain": [
       "[90, 91, 92, 93, 94, 95, 96, 97, 98, 99]"
      ]
     },
     "execution_count": 22,
     "metadata": {},
     "output_type": "execute_result"
    }
   ],
   "source": [
    "list_of_integers[-10:]\n",
    "# the last 10"
   ]
  },
  {
   "cell_type": "code",
   "execution_count": 23,
   "id": "bd3fc546-23e1-460d-bf65-2c76d813be99",
   "metadata": {},
   "outputs": [
    {
     "data": {
      "text/plain": [
       "[10, 11, 12, 13, 14, 15, 16, 17, 18, 19]"
      ]
     },
     "execution_count": 23,
     "metadata": {},
     "output_type": "execute_result"
    }
   ],
   "source": [
    "list_of_integers[10:20]\n",
    "# a middle 10"
   ]
  },
  {
   "cell_type": "code",
   "execution_count": 24,
   "id": "2160fadb-5ca7-4bc2-b31d-6ed592c058fc",
   "metadata": {},
   "outputs": [
    {
     "data": {
      "text/plain": [
       "[0, 3, 6, 9, 12, 15, 18]"
      ]
     },
     "execution_count": 24,
     "metadata": {},
     "output_type": "execute_result"
    }
   ],
   "source": [
    "list_of_integers[:20:3]\n",
    "# skipping some"
   ]
  },
  {
   "cell_type": "markdown",
   "id": "5018eda3-a179-493b-b905-0aebce8603f4",
   "metadata": {},
   "source": [
    "## Operations on Lists\n",
    "\n",
    "Some of our binary operations, like - and / do not make sense with lists.\n",
    "\n",
    "However + and * do make sense. Explain what they do:"
   ]
  },
  {
   "cell_type": "code",
   "execution_count": 31,
   "id": "4e2b6094-8df5-486e-a3d1-a3572417f8e9",
   "metadata": {},
   "outputs": [
    {
     "data": {
      "text/plain": [
       "[5, 5, 5, 20, 21, 22]"
      ]
     },
     "execution_count": 31,
     "metadata": {},
     "output_type": "execute_result"
    }
   ],
   "source": [
    "[5, 5, 5] + [20, 21, 22]"
   ]
  },
  {
   "cell_type": "code",
   "execution_count": 32,
   "id": "3c1f8764-c128-4fdf-b1c2-a1f1417ddd56",
   "metadata": {},
   "outputs": [
    {
     "data": {
      "text/plain": [
       "[5, 3, 5, 3, 5, 3, 5, 3, 5, 3, 5, 3]"
      ]
     },
     "execution_count": 32,
     "metadata": {},
     "output_type": "execute_result"
    }
   ],
   "source": [
    "[5, 3]*6"
   ]
  },
  {
   "cell_type": "markdown",
   "id": "2d4475a8-7e85-4226-b5ce-612a150a33d3",
   "metadata": {},
   "source": [
    "### Length\n",
    "\n",
    "One of the primary pieces of information a list contains is how many elements it contains. We can access this with the *len* (for length):"
   ]
  },
  {
   "cell_type": "code",
   "execution_count": 40,
   "id": "67d0480f-f077-4638-a93a-bd6ae3f8b22f",
   "metadata": {},
   "outputs": [
    {
     "data": {
      "text/plain": [
       "100"
      ]
     },
     "execution_count": 40,
     "metadata": {},
     "output_type": "execute_result"
    }
   ],
   "source": [
    "len(list_of_integers)"
   ]
  },
  {
   "cell_type": "markdown",
   "id": "b10a0c46-7ad2-4d8e-8ec6-54c73ccd2e44",
   "metadata": {},
   "source": [
    "## Looping Over a List\n",
    "\n",
    "As you have already seen, a lot of what we do can be described as *Looping Over (or Through) a List*.  This is accomplished with a *for* loop. \n"
   ]
  },
  {
   "cell_type": "code",
   "execution_count": 17,
   "id": "4f38566f-846a-48f7-8aef-8328c3a66b2c",
   "metadata": {},
   "outputs": [
    {
     "name": "stdout",
     "output_type": "stream",
     "text": [
      "chloe is a good dog!\n",
      "missy is a good dog!\n",
      "sophie is a good dog!\n",
      "ellie is a good dog!\n",
      "shadow is a good dog!\n",
      "achilles is a good dog!\n",
      "wolf is a good dog!\n"
     ]
    }
   ],
   "source": [
    "list_of_dogs = ['chloe', 'missy', 'sophie', 'ellie', 'shadow', 'achilles', 'wolf']\n",
    "for x in list_of_dogs: \n",
    "    print('{} is a good dog!'.format(x) )"
   ]
  },
  {
   "cell_type": "markdown",
   "id": "9a5f61aa-61af-498c-a4f8-5d23966eddea",
   "metadata": {},
   "source": [
    "and you should get a little tickle as you realize the power we have. \n",
    "\n",
    "For example we could go through a list of the first 100 integers and ask which ones are divisible by 13:"
   ]
  },
  {
   "cell_type": "code",
   "execution_count": 19,
   "id": "46a55685-040e-48c4-934c-2ae7097e1881",
   "metadata": {},
   "outputs": [
    {
     "name": "stdout",
     "output_type": "stream",
     "text": [
      "0 is divisible by 13\n",
      "13 is divisible by 13\n",
      "26 is divisible by 13\n",
      "39 is divisible by 13\n",
      "52 is divisible by 13\n",
      "65 is divisible by 13\n",
      "78 is divisible by 13\n",
      "91 is divisible by 13\n"
     ]
    }
   ],
   "source": [
    "for x in list_of_integers:\n",
    "    \n",
    "    if x % 13 == 0:\n",
    "        print('{} is divisible by 13'.format(x))"
   ]
  },
  {
   "cell_type": "markdown",
   "id": "6db2d299-b49e-4ada-82fa-829f9b242734",
   "metadata": {},
   "source": [
    "In fact we can skip the whole *list_of_integers* and just put the range command in the for command. \n",
    "\n",
    "Why:  Well *for* looks for what Python calls an iterator to loop through. Iterators are more general than just lists, and so in practice anything that works as an iterator will work. \n"
   ]
  },
  {
   "cell_type": "markdown",
   "id": "0f9d5f20-e419-4d64-92ca-fb525f94b022",
   "metadata": {},
   "source": [
    "### Summing up the geometric series\n",
    "\n",
    "Let's use a for loop to compute \n",
    "\n",
    "$$ \\sum_{n=0}^5 2^n $$\n"
   ]
  },
  {
   "cell_type": "code",
   "execution_count": 42,
   "id": "d302b172-3304-4d51-a404-54a6dc7af7c2",
   "metadata": {},
   "outputs": [
    {
     "data": {
      "text/plain": [
       "[1, 2, 4, 8, 16, 32]"
      ]
     },
     "execution_count": 42,
     "metadata": {},
     "output_type": "execute_result"
    }
   ],
   "source": [
    "# Make a list of the values\n",
    "\n",
    "seq = [2**n for n in range(6) ]\n",
    "seq"
   ]
  },
  {
   "cell_type": "code",
   "execution_count": 43,
   "id": "5dc28519-db57-4373-b36a-2b8f56f9c441",
   "metadata": {},
   "outputs": [
    {
     "data": {
      "text/plain": [
       "63"
      ]
     },
     "execution_count": 43,
     "metadata": {},
     "output_type": "execute_result"
    }
   ],
   "source": [
    "sum(seq)"
   ]
  },
  {
   "cell_type": "code",
   "execution_count": 44,
   "id": "ca0d3a14-4249-4e65-b223-4b52cf932c2d",
   "metadata": {},
   "outputs": [
    {
     "data": {
      "text/plain": [
       "63"
      ]
     },
     "execution_count": 44,
     "metadata": {},
     "output_type": "execute_result"
    }
   ],
   "source": [
    "s = 0\n",
    "for x in seq:\n",
    "    s += x\n",
    "s"
   ]
  },
  {
   "cell_type": "markdown",
   "id": "703148c1-bf89-4e82-9288-36da39b705bd",
   "metadata": {},
   "source": [
    "## The Seive of Eratosthens\n",
    "\n",
    "Okay so let's see what we can do with this problem:  We want to build a list of prime integers. \n",
    "\n",
    "Eratosthens idea was to start with a list of all of the integers from 2 up, and then remove the ones that were multiples of 2; and then from that list remove the ones that were multiples of 3; and then .....\n",
    "\n",
    "It would be nice if we could do the same. However removing lists from lists is hard. What is easier is building lists - and in fact Python gives us a little shortcut that combines lists with for loops, called a *list generator expression*.\n"
   ]
  },
  {
   "cell_type": "code",
   "execution_count": 33,
   "id": "7c53bdb2-9a0f-48b4-a445-9f3854e87a8d",
   "metadata": {},
   "outputs": [
    {
     "data": {
      "text/plain": [
       "[2, 3, 4, 5, 6, 7, 8, 9, 10, 11, 12, 13, 14, 15, 16, 17, 18, 19, 20, 21, 22]"
      ]
     },
     "execution_count": 33,
     "metadata": {},
     "output_type": "execute_result"
    }
   ],
   "source": [
    "seive = list(range(2, 23))\n",
    "seive"
   ]
  },
  {
   "cell_type": "code",
   "execution_count": 34,
   "id": "af7ace22-9f91-44ad-b2e7-2b76e46138ea",
   "metadata": {},
   "outputs": [
    {
     "data": {
      "text/plain": [
       "[2]"
      ]
     },
     "execution_count": 34,
     "metadata": {},
     "output_type": "execute_result"
    }
   ],
   "source": [
    "prime = [2]\n",
    "prime"
   ]
  },
  {
   "cell_type": "code",
   "execution_count": 35,
   "id": "156920a7-dea7-4161-a1d2-3b71cc8f7bac",
   "metadata": {},
   "outputs": [
    {
     "data": {
      "text/plain": [
       "[3, 5, 7, 9, 11, 13, 15, 17, 19, 21]"
      ]
     },
     "execution_count": 35,
     "metadata": {},
     "output_type": "execute_result"
    }
   ],
   "source": [
    "# use a list generator to build a new seive that is the integers in the old seive without the ones divisible by 2\n",
    "seive = [x for x in seive if x%2 != 0 ] \n",
    "seive"
   ]
  },
  {
   "cell_type": "code",
   "execution_count": 36,
   "id": "0459f4a6-ca3f-4138-9f40-a0a871b5778b",
   "metadata": {},
   "outputs": [
    {
     "data": {
      "text/plain": [
       "[2, 3]"
      ]
     },
     "execution_count": 36,
     "metadata": {},
     "output_type": "execute_result"
    }
   ],
   "source": [
    "prime += [3]\n",
    "prime"
   ]
  },
  {
   "cell_type": "code",
   "execution_count": 37,
   "id": "ba42d38e-1e08-49b4-8672-44e39c0a3912",
   "metadata": {},
   "outputs": [
    {
     "data": {
      "text/plain": [
       "[5, 7, 11, 13, 17, 19]"
      ]
     },
     "execution_count": 37,
     "metadata": {},
     "output_type": "execute_result"
    }
   ],
   "source": [
    "seive = [x for x in seive if x%3 != 0]\n",
    "seive"
   ]
  },
  {
   "cell_type": "code",
   "execution_count": 38,
   "id": "76dffafe-ca6d-4304-90d1-4dec7ede412f",
   "metadata": {},
   "outputs": [
    {
     "data": {
      "text/plain": [
       "[2, 3, 5]"
      ]
     },
     "execution_count": 38,
     "metadata": {},
     "output_type": "execute_result"
    }
   ],
   "source": [
    "prime += [5]\n",
    "prime"
   ]
  },
  {
   "cell_type": "code",
   "execution_count": 39,
   "id": "bfe43d21-9cc3-4d6d-87c8-70a9374399c3",
   "metadata": {},
   "outputs": [
    {
     "data": {
      "text/plain": [
       "[7, 11, 13, 17, 19]"
      ]
     },
     "execution_count": 39,
     "metadata": {},
     "output_type": "execute_result"
    }
   ],
   "source": [
    "seive = [x for x in seive if x%5 != 0]\n",
    "seive"
   ]
  },
  {
   "cell_type": "markdown",
   "id": "8ca746cf-9ce3-4457-a48c-166bb4d0a8d4",
   "metadata": {},
   "source": [
    "And so on. Notice that we want to continue this process while the seive list is non-empty.\n",
    "\n",
    "**While** that gives me another idea.\n",
    "\n",
    "### While Loops\n",
    "\n",
    "*for* loops are helpful when we have an iterator (list) of things we know we want to go all the way through taking some action for each one. \n",
    "\n",
    "*while* loops are for situations where we want to repeat a task repeatedly until a condition is satisfied. \n",
    "\n",
    "Note immediately the danger. *for* loops will only run as long as there are items in the iterator left to use. Once the end of the iterator is reached the for loop is finished.  While loops will run until the condition is False; which means they could, if we are not careful, try to run forever == *Infinite Loop*"
   ]
  },
  {
   "cell_type": "code",
   "execution_count": 32,
   "id": "15b0da5b-e3ac-4d21-873c-386b2a710dca",
   "metadata": {},
   "outputs": [
    {
     "name": "stdout",
     "output_type": "stream",
     "text": [
      "0 is not yet 20\n",
      "1 is not yet 20\n",
      "2 is not yet 20\n",
      "3 is not yet 20\n",
      "4 is not yet 20\n",
      "5 is not yet 20\n",
      "6 is not yet 20\n",
      "7 is not yet 20\n",
      "8 is not yet 20\n",
      "9 is not yet 20\n",
      "10 is not yet 20\n",
      "11 is not yet 20\n",
      "12 is not yet 20\n",
      "13 is not yet 20\n",
      "14 is not yet 20\n",
      "15 is not yet 20\n",
      "16 is not yet 20\n",
      "17 is not yet 20\n",
      "18 is not yet 20\n",
      "19 is not yet 20\n",
      "Now x is 20!\n"
     ]
    }
   ],
   "source": [
    "x = 0\n",
    "while x<20:\n",
    "    print('{} is not yet 20'.format(x))\n",
    "    x += 1\n",
    "    \n",
    "print('Now x is 20!')"
   ]
  },
  {
   "cell_type": "markdown",
   "id": "8964761e-b36d-4b05-aa96-78c09b7e6f88",
   "metadata": {},
   "source": [
    "A fun excercise:  Usually you can do anything with any type of loop."
   ]
  },
  {
   "cell_type": "code",
   "execution_count": 34,
   "id": "34a3311a-b2a5-4c8a-a70a-e69ffe4b3902",
   "metadata": {},
   "outputs": [
    {
     "name": "stdout",
     "output_type": "stream",
     "text": [
      "0 is not yet 20\n",
      "1 is not yet 20\n",
      "2 is not yet 20\n",
      "3 is not yet 20\n",
      "4 is not yet 20\n",
      "5 is not yet 20\n",
      "6 is not yet 20\n",
      "7 is not yet 20\n",
      "8 is not yet 20\n",
      "9 is not yet 20\n",
      "10 is not yet 20\n",
      "11 is not yet 20\n",
      "12 is not yet 20\n",
      "13 is not yet 20\n",
      "14 is not yet 20\n",
      "15 is not yet 20\n",
      "16 is not yet 20\n",
      "17 is not yet 20\n",
      "18 is not yet 20\n",
      "19 is not yet 20\n",
      "Now x is 20!\n"
     ]
    }
   ],
   "source": [
    "for x in range(0, 20):\n",
    "    print('{} is not yet 20'.format(x))\n",
    "    \n",
    "print('Now x is 20!')"
   ]
  },
  {
   "cell_type": "code",
   "execution_count": 35,
   "id": "7acc1eb1-136d-412b-bb6a-8956b5b81091",
   "metadata": {},
   "outputs": [
    {
     "name": "stdout",
     "output_type": "stream",
     "text": [
      "0 is not yet 20\n",
      "1 is not yet 20\n",
      "2 is not yet 20\n",
      "3 is not yet 20\n",
      "4 is not yet 20\n",
      "5 is not yet 20\n",
      "6 is not yet 20\n",
      "7 is not yet 20\n",
      "8 is not yet 20\n",
      "9 is not yet 20\n",
      "10 is not yet 20\n",
      "11 is not yet 20\n",
      "12 is not yet 20\n",
      "13 is not yet 20\n",
      "14 is not yet 20\n",
      "15 is not yet 20\n",
      "16 is not yet 20\n",
      "17 is not yet 20\n",
      "18 is not yet 20\n",
      "19 is not yet 20\n",
      "Now x is 20!\n"
     ]
    }
   ],
   "source": [
    "def f(x):\n",
    "    \n",
    "    if x>=20:\n",
    "        print('Now x is 20!')\n",
    "        return None\n",
    "    else: \n",
    "        print('{} is not yet 20'.format(x))\n",
    "        return f(x+1)\n",
    "    \n",
    "f(0)"
   ]
  },
  {
   "cell_type": "markdown",
   "id": "7af92d72-5ab9-4800-bf29-0f16a654fb89",
   "metadata": {},
   "source": [
    "## Seive of Erosthenes\n",
    "\n",
    "So let's go back to our seive and explain what we want to do:\n",
    "\n",
    "- Start with a seive of the integers from 2 up to some large n; and a list of primes that begins empty.\n",
    "\n",
    "- *While* the seive is not emtpy:\n",
    "\n",
    "a. take the first element from the seive and add it to the list of primes\n",
    "\n",
    "b. make a new seive that is all the elements from the old ones except those divisible by the integer we just removed.\n"
   ]
  },
  {
   "cell_type": "code",
   "execution_count": 41,
   "id": "28248690-8045-40dc-89ee-b11331754329",
   "metadata": {},
   "outputs": [
    {
     "data": {
      "text/plain": [
       "[2,\n",
       " 3,\n",
       " 5,\n",
       " 7,\n",
       " 11,\n",
       " 13,\n",
       " 17,\n",
       " 19,\n",
       " 23,\n",
       " 29,\n",
       " 31,\n",
       " 37,\n",
       " 41,\n",
       " 43,\n",
       " 47,\n",
       " 53,\n",
       " 59,\n",
       " 61,\n",
       " 67,\n",
       " 71,\n",
       " 73,\n",
       " 79,\n",
       " 83,\n",
       " 89,\n",
       " 97,\n",
       " 101,\n",
       " 103,\n",
       " 107,\n",
       " 109,\n",
       " 113,\n",
       " 127,\n",
       " 131,\n",
       " 137,\n",
       " 139,\n",
       " 149,\n",
       " 151,\n",
       " 157,\n",
       " 163,\n",
       " 167,\n",
       " 173,\n",
       " 179,\n",
       " 181,\n",
       " 191,\n",
       " 193,\n",
       " 197,\n",
       " 199]"
      ]
     },
     "execution_count": 41,
     "metadata": {},
     "output_type": "execute_result"
    }
   ],
   "source": [
    "seive = list(range(2, 201))\n",
    "primes = []\n",
    "\n",
    "while len(seive)>0:\n",
    "    primes += [seive[0]]\n",
    "    seive = [x for x in seive if x%primes[-1] != 0 ]\n",
    "    \n",
    "primes"
   ]
  },
  {
   "cell_type": "code",
   "execution_count": 45,
   "id": "75e6d8f3-7184-4447-9eff-789a327980fe",
   "metadata": {},
   "outputs": [
    {
     "data": {
      "text/plain": [
       "4227"
      ]
     },
     "execution_count": 45,
     "metadata": {},
     "output_type": "execute_result"
    }
   ],
   "source": [
    "sum(primes)"
   ]
  },
  {
   "cell_type": "code",
   "execution_count": null,
   "id": "b13b382d-b385-48c5-9379-299161096651",
   "metadata": {},
   "outputs": [],
   "source": []
  }
 ],
 "metadata": {
  "kernelspec": {
   "display_name": "Python 3",
   "language": "python",
   "name": "python3"
  },
  "language_info": {
   "codemirror_mode": {
    "name": "ipython",
    "version": 3
   },
   "file_extension": ".py",
   "mimetype": "text/x-python",
   "name": "python",
   "nbconvert_exporter": "python",
   "pygments_lexer": "ipython3",
   "version": "3.9.5"
  }
 },
 "nbformat": 4,
 "nbformat_minor": 5
}
