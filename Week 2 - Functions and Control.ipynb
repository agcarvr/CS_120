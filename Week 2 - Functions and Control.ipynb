{
 "cells": [
  {
   "cell_type": "markdown",
   "id": "4c690a7e-9ece-4d28-a8a1-2a646967be55",
   "metadata": {},
   "source": [
    "# Functions\n",
    "\n",
    "We've also seen a function already. For lots of reasons we will often want to write our own functions. Functions make our code easier to read by setting aside a particular sequence of commands or a computation; make our code easier to debug, by letting us isolate the parts of our program; help combine the work from different people; and finally allow us to reuse code in multiple places in our program or even across multiple programs.\n",
    "\n",
    "I think about functions as the parts of my car. All of those parts fit together and work together to make the car go (and stop!). They are also the same parts used in other cars.\n",
    "\n",
    "Here is an example of a function in Python:"
   ]
  },
  {
   "cell_type": "code",
   "execution_count": null,
   "id": "c44b97ce-7059-4a45-bfed-cbd6cd77c557",
   "metadata": {},
   "outputs": [],
   "source": [
    "# The first line starts with the keyword def, gives a name for the function, \n",
    "# in parenthesis identifies the variables and then parameters the function will use\n",
    "# and then ends with a colon\n",
    "\n",
    "def name_of_function(variable1, variable2, parameter1 = 3.14):\n",
    "    # We can pass the function variables, and then parameters which are variables with predefined values\n",
    "    \n",
    "    # our function then contains a list of commands that are lined up with the same spacing\n",
    "    \n",
    "    area_of_circle = parameter1 * variable1**2\n",
    "    area_of_cylinder = variable2 * area_of_circle\n",
    "    \n",
    "    # the variables passed to the function and the ones defined within it are local \n",
    "    # local variables are only available inside of the function, your program will not remember \n",
    "    # area_of_circle after the function has run.\n",
    "    \n",
    "    return area_of_cylinder\n",
    "\n",
    "# The function ends with a return. We can return a varaible, a value, or even the keyword None\n",
    "# In truth you could write a function that does not have a return command, but it is good programming practice to at least return None. \n",
    "\n",
    "# Later in the course we will see examples of functions that have multiple return values depending on the computation.\n",
    "\n"
   ]
  },
  {
   "cell_type": "code",
   "execution_count": null,
   "id": "73ac8b79-5b22-42e1-baaf-9b7ab0c84fff",
   "metadata": {},
   "outputs": [],
   "source": [
    "# once the function is defined we can call it by using its name and passing variables or objects for each of the variables in the definition:\n",
    "\n",
    "name_of_function(5.0, 1.2)"
   ]
  },
  {
   "cell_type": "code",
   "execution_count": null,
   "id": "e1a895cf-121f-4a6b-ae59-126a7606a11c",
   "metadata": {},
   "outputs": [],
   "source": [
    "# We can override the value of the parameter by passing it as well\n",
    "# I suggest naming the parameter if you are overriding it, but Python would also accept it by position\n",
    "\n",
    "name_of_function(5.0, 1.2, parameter1 = 3.142)"
   ]
  },
  {
   "cell_type": "code",
   "execution_count": null,
   "id": "22ee3d95-18d5-45ab-a227-9193a4c6741a",
   "metadata": {},
   "outputs": [],
   "source": [
    "# note that Python dynmaically types the result:\n",
    "\n",
    "name_of_function(5, 2, parameter1 = 3)"
   ]
  },
  {
   "cell_type": "code",
   "execution_count": null,
   "id": "251e30d5-1723-4039-b28f-863675745534",
   "metadata": {},
   "outputs": [],
   "source": [
    "# note that this could lead to some weirdness; again because of dynamic typing it is our responsibility to make sure what we use for a variable and its value\n",
    "# makes sense.\n",
    "\n",
    "name_of_function(2, [1], parameter1=3)"
   ]
  },
  {
   "cell_type": "markdown",
   "id": "b00040bf-5020-4b78-9eaa-ae60474c2ca0",
   "metadata": {},
   "source": [
    "## Now you\n",
    "\n",
    "That is the basic structure. Let's use it!!\n",
    "\n",
    "We drop a bowling ball from a window of Ross Hall. Write a function that computes its height after t seconds. \n"
   ]
  },
  {
   "cell_type": "code",
   "execution_count": null,
   "id": "5288cea7-64ae-4655-acb4-c38fdf02ecde",
   "metadata": {},
   "outputs": [],
   "source": [
    "\n",
    "\n",
    "\n"
   ]
  },
  {
   "cell_type": "markdown",
   "id": "815e8da3-67e3-479e-a8df-9044c22c8aed",
   "metadata": {},
   "source": [
    "# Modules \n",
    "\n",
    "So we have learned about built-in function and operators; variables; and learned how to make our own user defined functions. However in many many cases in science and engineering the functions we want to use $\\sin(x)$, $\\cos(x)$, $\\exp(x)$, $\\log(x)$ etc. are commonly known and used enough that they have been written by someone so we can use them in Python.\n",
    "\n",
    "They are available in what we call *Modules*.  There are thousands of modules for Python, to do specialized tasks in hundreds of fields. \n",
    "\n",
    "For the first module, let's meet *numpy* for *numerical python*. \n",
    "\n",
    "We can load the whole module with import."
   ]
  },
  {
   "cell_type": "code",
   "execution_count": null,
   "id": "e71d53e4-7a23-4dfa-936f-94d4fbc04098",
   "metadata": {},
   "outputs": [],
   "source": [
    "import numpy"
   ]
  },
  {
   "cell_type": "code",
   "execution_count": null,
   "id": "8ddc4070-a574-4637-a9c0-185351cd2370",
   "metadata": {},
   "outputs": [],
   "source": [
    "# we access commands in the module after importing by using the name of the module and a period and then the name of the function\n",
    "\n",
    "numpy.sin(1.2)"
   ]
  },
  {
   "cell_type": "code",
   "execution_count": null,
   "id": "b0076c4e-e0dc-4181-8290-d710d4586181",
   "metadata": {},
   "outputs": [],
   "source": [
    "# commonly used constants are available\n",
    "\n",
    "numpy.pi"
   ]
  },
  {
   "cell_type": "markdown",
   "id": "de240fb0-1f22-4fd6-a893-c968bca28106",
   "metadata": {},
   "source": [
    "This can get a bit tedious to keep typing *numpy* everytime we need to use a function from numpy so there are two things we can do:"
   ]
  },
  {
   "cell_type": "code",
   "execution_count": null,
   "id": "e13baf19-d997-4475-92ed-af6b3961d5e0",
   "metadata": {},
   "outputs": [],
   "source": [
    "# we can give the module an alias:\n",
    "\n",
    "import numpy as np\n",
    "\n",
    "# now we can type np.sin instead of numpy.sin and save ourselves some typing:\n",
    "\n",
    "np.sin(np.pi/4), np.sqrt(2)/2"
   ]
  },
  {
   "cell_type": "code",
   "execution_count": null,
   "id": "9a3241a8-bb9e-4e50-819a-be80042f6640",
   "metadata": {},
   "outputs": [],
   "source": [
    "# Or if we are only using a few functions from the module we can import just them with from:\n",
    "\n",
    "from numpy import sin, pi, sqrt\n",
    "\n",
    "sin(pi/4), sqrt(2)/2"
   ]
  },
  {
   "cell_type": "markdown",
   "id": "e35fe40b-820c-41d3-8005-576e4a51bcd8",
   "metadata": {},
   "source": [
    "Note that there are other modules that also have *sin* and *sqrt* defined, and so we might not want to use *from* if we are also using those to avoid losing track of what we are doing. Using the *as* alias method will mean we always know which *sin* we are using. However in many case it will not matter and so the *from* method is fine and saves us a lot of typing."
   ]
  },
  {
   "cell_type": "code",
   "execution_count": null,
   "id": "4c388877-6ae5-4862-84f5-d5a8eec4858a",
   "metadata": {},
   "outputs": [],
   "source": [
    "\n",
    "\n",
    "\n",
    "\n"
   ]
  },
  {
   "cell_type": "markdown",
   "id": "9fd62aa5-1185-4305-bd04-4744485b1f37",
   "metadata": {},
   "source": [
    "### Plotting\n",
    "\n",
    "Let's meet our next module:  matplotlib  this is a module that is used for making plots of functions. \n",
    "\n",
    "It is easiest to demonstrate how it works with an example:"
   ]
  },
  {
   "cell_type": "code",
   "execution_count": null,
   "id": "117916c8-a266-46f1-8fd5-f6b19cc7d20e",
   "metadata": {},
   "outputs": [],
   "source": [
    "# import the package with an alias\n",
    "\n",
    "import matplotlib.pyplot as plt"
   ]
  },
  {
   "cell_type": "code",
   "execution_count": null,
   "id": "891c5c4f-c397-4c4e-a844-3780bf1f2fb4",
   "metadata": {},
   "outputs": [],
   "source": [
    "# we make two lists:  one list of inputs and one list of outputs; the only rule is that these two lists need to have the same length\n",
    "\n",
    "inputs = [0, 1, 2, 3, 4]\n",
    "outputs = [x**2 for x in inputs ]\n",
    "outputs"
   ]
  },
  {
   "cell_type": "code",
   "execution_count": null,
   "id": "a0677ae1-4167-465d-9423-9a7623713489",
   "metadata": {},
   "outputs": [],
   "source": [
    "# we can check that the lengths match:\n",
    "# note the double == sign. This means \"is equal?\"  \n",
    "# a single = sign means \"set equal\"\n",
    "\n",
    "len(inputs) == len(outputs)"
   ]
  },
  {
   "cell_type": "code",
   "execution_count": null,
   "id": "bb803726-6e53-42ac-8345-e9efa7dc3d4e",
   "metadata": {},
   "outputs": [],
   "source": [
    "plt.plot(inputs, outputs, 'r.')\n",
    "\n",
    "# The r means what?\n",
    "# The . means what?"
   ]
  },
  {
   "cell_type": "markdown",
   "id": "fb80194e-0989-498f-abbe-7d6e2c319bd5",
   "metadata": {},
   "source": [
    "You can plot a continuous function by breaking your inputs into a fine sequence, which the *numpy.arange* function does for us. Recall that we have imported numpy with an alias of np:"
   ]
  },
  {
   "cell_type": "code",
   "execution_count": null,
   "id": "77260a61-3758-4a8f-92fe-be4bdea93e46",
   "metadata": {},
   "outputs": [],
   "source": [
    "# The first argument of numpy.arange is the starting point; the second is the ending point; and the third is the distance between each point\n",
    "# in the mesh\n",
    "inputs = np.arange(0, 4, 0.1)\n",
    "outputs = [ x**2 for x in inputs ]"
   ]
  },
  {
   "cell_type": "code",
   "execution_count": null,
   "id": "577cdd1f-14c7-439c-9e23-7ebdda2925a3",
   "metadata": {},
   "outputs": [],
   "source": [
    "inputs"
   ]
  },
  {
   "cell_type": "code",
   "execution_count": null,
   "id": "6da67df3-591c-4973-8bda-0e602b55037c",
   "metadata": {},
   "outputs": [],
   "source": [
    "plt.plot(inputs, outputs, 'r-')"
   ]
  },
  {
   "cell_type": "code",
   "execution_count": null,
   "id": "63e54716-05a9-4d41-8506-a071b9fe2235",
   "metadata": {},
   "outputs": [],
   "source": []
  }
 ],
 "metadata": {
  "kernelspec": {
   "display_name": "Python 3",
   "language": "python",
   "name": "python3"
  },
  "language_info": {
   "codemirror_mode": {
    "name": "ipython",
    "version": 3
   },
   "file_extension": ".py",
   "mimetype": "text/x-python",
   "name": "python",
   "nbconvert_exporter": "python",
   "pygments_lexer": "ipython3",
   "version": "3.9.5"
  }
 },
 "nbformat": 4,
 "nbformat_minor": 5
}
