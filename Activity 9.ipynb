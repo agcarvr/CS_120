{
 "cells": [
  {
   "cell_type": "markdown",
   "id": "65dfe274-9732-49ad-a1e3-92bfb35c0907",
   "metadata": {},
   "source": [
    "# Activity 9 - Complex and Quaternionic Numbers\n",
    "\n",
    "Let's review where we are at this point in the class:  \n",
    "\n",
    "- We have learned about the fundamental types that Python has built-in for doing computations - integers and floats.\n",
    "- We have learned how to write our own functions to break our code up into manageable and repeatable pieces; and to have those functions return values, do tasks like print, and to use mutable variables to change values.\n",
    "- We have learned how to use the control structures:  if, elif, and else.\n",
    "- We have learned how to write loops using:  recursion, for, and while.\n",
    "- We have learned about the data structure types that are built-in:  lists, strings, dictionaries, and tuples.\n",
    "\n",
    "These are the basic building blocks of a programming language, and nearly every programming language has some version of each of these things (dictionaries are a bit special).\n",
    "\n",
    "So now the rest of this course is learning how to put these things together to solve some problems. Our textbook focus on doing more work with the analysis of texts - and this is interesting, but I want to have us also see how these tools can answer some mathematics questions. \n",
    "\n",
    "The process is going to be similar to what we have already seen, except one of our first questions. \n"
   ]
  }
 ],
 "metadata": {
  "kernelspec": {
   "display_name": "Python 3",
   "language": "python",
   "name": "python3"
  },
  "language_info": {
   "codemirror_mode": {
    "name": "ipython",
    "version": 3
   },
   "file_extension": ".py",
   "mimetype": "text/x-python",
   "name": "python",
   "nbconvert_exporter": "python",
   "pygments_lexer": "ipython3",
   "version": "3.9.5"
  }
 },
 "nbformat": 4,
 "nbformat_minor": 5
}
