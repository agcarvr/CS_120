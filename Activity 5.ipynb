{
 "cells": [
  {
   "cell_type": "markdown",
   "id": "0e889f08-bf9a-42a7-a006-943b95c3eb7f",
   "metadata": {},
   "source": [
    "# Activity 5:  How fast does factorial grow\n",
    "\n",
    "Today I'd like us to use the tools we have learned about:  *numpy*, *matplotlib* to study a classic question:\n",
    "\n",
    "How fast does factorial grow?"
   ]
  },
  {
   "cell_type": "code",
   "execution_count": 12,
   "id": "f80e6fe1-d0f3-4af7-8aa9-bd95ee7ef9be",
   "metadata": {},
   "outputs": [],
   "source": [
    "import numpy as np\n",
    "from math import factorial"
   ]
  },
  {
   "cell_type": "markdown",
   "id": "69e3f1c3-8bf5-4064-9c9a-4a3d4c50dc09",
   "metadata": {},
   "source": [
    "Factorial grows pretty fast it seems:"
   ]
  },
  {
   "cell_type": "code",
   "execution_count": 5,
   "id": "b4bd19f5-54f5-4855-bc5a-447a8184169d",
   "metadata": {},
   "outputs": [
    {
     "data": {
      "text/plain": [
       "815915283247897734345611269596115894272000000000"
      ]
     },
     "execution_count": 5,
     "metadata": {},
     "output_type": "execute_result"
    }
   ],
   "source": [
    "factorial(40)"
   ]
  },
  {
   "cell_type": "markdown",
   "id": "227fe881-54a1-4d4e-9a7e-5c3731a8e814",
   "metadata": {},
   "source": [
    "and my question for you today is \"How fast?\"\n",
    "\n",
    "It clearly looks exponential or even faster.\n",
    "\n",
    "Here is how we will play this game:  Let's define some function f(n) and let's see how close f(n) gets to n!.\n",
    "\n",
    "**Python integers have arbitrary precision:** Meaning if we stay in integer land Python will give us exact answers. However if we want to use $e^n$ or similar expressions, then f(n) will be a float, and floats in any computer language have finite precision.\n",
    "\n",
    "**A couple of things to be aware of:**  adding and subtracting large or small floats from each other is dangerous. \n",
    "\n",
    "So knowing that our numbers will be very big, what we should do to compare them is look at their ratio. So write a second function r(n) that returns the ratio betweent n! and your f(n).\n",
    "\n",
    "Then use the plot function I wrote to plot your r(n):"
   ]
  },
  {
   "cell_type": "code",
   "execution_count": 50,
   "id": "152d0c56-4365-44b7-a0c8-fa726016b2f8",
   "metadata": {},
   "outputs": [],
   "source": [
    "def plot(r, a=1, b=10):\n",
    "    '''\n",
    "    plotting function for Activity 5. r is a function returning a float, (a, b) is the range of the plot\n",
    "    '''\n",
    "    import matplotlib.pyplot as plt\n",
    "    \n",
    "    inputs = np.arange(a, b, 1)\n",
    "    outputs = [ r(x) for x in inputs]\n",
    "    plt.plot(inputs, outputs, 'b.')\n",
    "    \n",
    "    return None"
   ]
  },
  {
   "cell_type": "markdown",
   "id": "34604077-7987-42ee-87f8-73750f777b96",
   "metadata": {},
   "source": [
    "Formally we will say that two functions are asymptotic:  $$ n! \\sim f(n) $$ if $$ \\lim_{n\\to \\infty} \\frac{n!}{f(n)} = 1$$\n",
    "\n",
    "Our goal for today is to see if we can find an $f(n)$ that is asymptotic to $n!$.\n",
    "\n",
    "(if you want the spoiler, you can search on wikipedia for it)."
   ]
  },
  {
   "cell_type": "code",
   "execution_count": null,
   "id": "26bdbfd2-f70d-49b0-88d5-1cceb2efc2b5",
   "metadata": {},
   "outputs": [],
   "source": []
  }
 ],
 "metadata": {
  "kernelspec": {
   "display_name": "Python 3",
   "language": "python",
   "name": "python3"
  },
  "language_info": {
   "codemirror_mode": {
    "name": "ipython",
    "version": 3
   },
   "file_extension": ".py",
   "mimetype": "text/x-python",
   "name": "python",
   "nbconvert_exporter": "python",
   "pygments_lexer": "ipython3",
   "version": "3.9.5"
  }
 },
 "nbformat": 4,
 "nbformat_minor": 5
}
