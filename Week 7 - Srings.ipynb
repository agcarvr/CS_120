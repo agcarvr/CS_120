{
 "cells": [
  {
   "cell_type": "markdown",
   "id": "1516fac0-bd48-422c-8796-ec439f3bda40",
   "metadata": {},
   "source": [
    "# Strings\n",
    "\n",
    "See Chapter 8 in our textbook.\n",
    "\n",
    "We have already seen examples of strings during class:"
   ]
  },
  {
   "cell_type": "code",
   "execution_count": 2,
   "id": "dd829ee7-6163-43d5-8abb-f1840f971d52",
   "metadata": {},
   "outputs": [
    {
     "data": {
      "text/plain": [
       "str"
      ]
     },
     "execution_count": 2,
     "metadata": {},
     "output_type": "execute_result"
    }
   ],
   "source": [
    "my_dog = 'chloe'\n",
    "type(my_dog)"
   ]
  },
  {
   "cell_type": "markdown",
   "id": "36eddc3b-256f-431d-9bd1-bd9e82d414dd",
   "metadata": {},
   "source": [
    "Strings are characters from a list of allowed characters in Python. It is a big list but roughly anything you can type with your keyboard or characters from other alphabets as well.\n",
    "\n",
    "Strings are identified by being enclosed in either \" \" double-quotes or ' ' single-quotes.  Either one works and they are interchangebale.\n",
    "\n",
    "## Why two quotes\n",
    "\n",
    "Why two ways to identify them?  Well consider the strings:"
   ]
  },
  {
   "cell_type": "code",
   "execution_count": 3,
   "id": "bb39acee-c8e7-4ff7-9beb-29be3d26c9ff",
   "metadata": {},
   "outputs": [
    {
     "data": {
      "text/plain": [
       "\"It's party time!\""
      ]
     },
     "execution_count": 3,
     "metadata": {},
     "output_type": "execute_result"
    }
   ],
   "source": [
    "statement1 = \"It's party time!\"\n",
    "statement1"
   ]
  },
  {
   "cell_type": "code",
   "execution_count": 5,
   "id": "23c82ea2-47e3-4ed0-856d-f668a1c30fa1",
   "metadata": {},
   "outputs": [
    {
     "data": {
      "text/plain": [
       "'And then my dog said, \"you are kidding me, right?!?\"'"
      ]
     },
     "execution_count": 5,
     "metadata": {},
     "output_type": "execute_result"
    }
   ],
   "source": [
    "statement2 = 'And then my dog said, \"you are kidding me, right?!?\"'\n",
    "statement2"
   ]
  },
  {
   "cell_type": "markdown",
   "id": "19f7703b-a2bf-4149-9bb8-160314ca904d",
   "metadata": {},
   "source": [
    "Note that *print(statement1)* has python render the string as a display. -- special characters are rendered as their meaning.\n",
    "\n",
    "Of course what to do if your string uses both single and double quotes in it. For that we have espace characters \\' and \\* for single and double quotes:"
   ]
  },
  {
   "cell_type": "code",
   "execution_count": 35,
   "id": "dfe2795e-42c0-4633-8eba-e5f24fb42f41",
   "metadata": {},
   "outputs": [
    {
     "ename": "SyntaxError",
     "evalue": "invalid syntax (<ipython-input-35-346d3987ec3b>, line 1)",
     "output_type": "error",
     "traceback": [
      "\u001b[0;36m  File \u001b[0;32m\"<ipython-input-35-346d3987ec3b>\"\u001b[0;36m, line \u001b[0;32m1\u001b[0m\n\u001b[0;31m    statement3 = 'My dog said, \"We'll never know what happened to the treats!\"'\u001b[0m\n\u001b[0m                                   ^\u001b[0m\n\u001b[0;31mSyntaxError\u001b[0m\u001b[0;31m:\u001b[0m invalid syntax\n"
     ]
    }
   ],
   "source": [
    "statement3 = 'My dog said, \"We'll never know what happened to the treats!\"'"
   ]
  },
  {
   "cell_type": "code",
   "execution_count": 37,
   "id": "4fe1e3f6-41b8-42a2-8946-e5f27c5af10c",
   "metadata": {},
   "outputs": [
    {
     "data": {
      "text/plain": [
       "'My dog said, \"We\\'ll never know what happened to the treats!\"'"
      ]
     },
     "execution_count": 37,
     "metadata": {},
     "output_type": "execute_result"
    }
   ],
   "source": [
    "statement3 = 'My dog said, \"We\\'ll never know what happened to the treats!\"'\n",
    "statement3"
   ]
  },
  {
   "cell_type": "code",
   "execution_count": 38,
   "id": "51244e3c-985e-448a-8ba1-52b7810c3bc4",
   "metadata": {},
   "outputs": [
    {
     "name": "stdout",
     "output_type": "stream",
     "text": [
      "My dog said, \"We'll never know what happened to the treats!\"\n"
     ]
    }
   ],
   "source": [
    "print(statement3)"
   ]
  },
  {
   "cell_type": "markdown",
   "id": "a43318aa-5e84-423c-be2a-b67da7e31c6f",
   "metadata": {},
   "source": [
    "## Special Characters\n",
    "\n",
    "There is a large list of special characters for strings that tell the cursor what to do. Even though we type these as two characters, to Python the pair of symbols is treated as one character. Try different strings with them in the print command:\n",
    "\n",
    "- '\\n' is a new line.\n",
    "- '\\t' is a tab\n",
    "\n",
    "You can find a list of others here: https://www.stat.berkeley.edu/~spector/extension/python/notes/node14.html"
   ]
  },
  {
   "cell_type": "markdown",
   "id": "c825e848-ddf4-4330-8333-9e1e40b40fe8",
   "metadata": {},
   "source": [
    "## Strings are Lists (mostly)\n",
    "\n",
    "Strings are, at a fundamental level, lists of characters (with one important difference).\n",
    "\n",
    "Do the following with the sring:"
   ]
  },
  {
   "cell_type": "code",
   "execution_count": 6,
   "id": "1051fbed-8410-4782-8ab4-7bfa11877dea",
   "metadata": {},
   "outputs": [],
   "source": [
    "puzzle = 'A set contains 2 and the number of elements in it. \\n What is the set?'"
   ]
  },
  {
   "cell_type": "markdown",
   "id": "a2aeffa4-fe8e-4e92-a56e-e9f7f82a3761",
   "metadata": {},
   "source": [
    "### Have Python give you the first character of the string\n",
    "\n",
    "### Have Python give you the last character of the string\n",
    "\n",
    "### Have Python give you the first 15 characters of the string\n",
    "\n",
    "### Have Python give you the length of the string\n",
    "\n",
    "### Add the string 'Here is a puzzle: ' to the puzzle string."
   ]
  },
  {
   "cell_type": "code",
   "execution_count": null,
   "id": "55af691d-5843-45d6-939b-c87aa74e8019",
   "metadata": {},
   "outputs": [],
   "source": []
  },
  {
   "cell_type": "markdown",
   "id": "040bdd76-106d-445d-a327-9a2525b497f1",
   "metadata": {},
   "source": [
    "### Loops and strings\n",
    "\n",
    "#### Find the location of the '\\n' character in the string\n",
    "\n",
    "#### Make a new string that is just the last line of the string\n",
    "\n"
   ]
  },
  {
   "cell_type": "code",
   "execution_count": null,
   "id": "cbe13ac3-459c-417d-a29e-6df5f08cfa07",
   "metadata": {},
   "outputs": [],
   "source": []
  },
  {
   "cell_type": "markdown",
   "id": "1040c764-8671-4e44-96d0-1d2b4bd3f9c9",
   "metadata": {},
   "source": [
    "## Strings are not Lists: Immutable v Mutable\n",
    "\n",
    "Strings are different from lists in one way. \n",
    "\n",
    "Lists are **mutable**:"
   ]
  },
  {
   "cell_type": "code",
   "execution_count": 39,
   "id": "fd96c698-3e6b-4ceb-b7d7-fdf653970cfb",
   "metadata": {},
   "outputs": [
    {
     "data": {
      "text/plain": [
       "[1, 1, 2, 2, 3, 3]"
      ]
     },
     "execution_count": 39,
     "metadata": {},
     "output_type": "execute_result"
    }
   ],
   "source": [
    "x = [1, 1, 2, 2, 3, 3]\n",
    "x"
   ]
  },
  {
   "cell_type": "code",
   "execution_count": 40,
   "id": "12b90d35-6d82-49c4-8f36-28a4bce2ed15",
   "metadata": {},
   "outputs": [
    {
     "data": {
      "text/plain": [
       "[1, 1, 2, 100, 3, 3]"
      ]
     },
     "execution_count": 40,
     "metadata": {},
     "output_type": "execute_result"
    }
   ],
   "source": [
    "x[3] *= 50\n",
    "x"
   ]
  },
  {
   "cell_type": "markdown",
   "id": "6066d84a-6266-4e1c-817f-d9ca58e46b8b",
   "metadata": {},
   "source": [
    "Mutable means that we can update the values by just refering to them.\n",
    "\n",
    "Strings on the other hand are **immutable**. If we try to change a value of a single character, we will get an error:"
   ]
  },
  {
   "cell_type": "code",
   "execution_count": 10,
   "id": "99f0cc88-1859-4560-8666-6e29dbc992d8",
   "metadata": {},
   "outputs": [
    {
     "name": "stdout",
     "output_type": "stream",
     "text": [
      "This is That\n"
     ]
    }
   ],
   "source": [
    "test = 'This is That'\n",
    "print(test)"
   ]
  },
  {
   "cell_type": "code",
   "execution_count": 13,
   "id": "b76802fe-f37e-46f5-8994-af8c2703e9d9",
   "metadata": {},
   "outputs": [
    {
     "ename": "TypeError",
     "evalue": "'str' object does not support item assignment",
     "output_type": "error",
     "traceback": [
      "\u001b[0;31m---------------------------------------------------------------------------\u001b[0m",
      "\u001b[0;31mTypeError\u001b[0m                                 Traceback (most recent call last)",
      "\u001b[0;32m<ipython-input-13-c9d33c7a8c29>\u001b[0m in \u001b[0;36m<module>\u001b[0;34m\u001b[0m\n\u001b[0;32m----> 1\u001b[0;31m \u001b[0mtest\u001b[0m\u001b[0;34m[\u001b[0m\u001b[0;36m10\u001b[0m\u001b[0;34m]\u001b[0m \u001b[0;34m=\u001b[0m \u001b[0;34m'i'\u001b[0m\u001b[0;34m\u001b[0m\u001b[0;34m\u001b[0m\u001b[0m\n\u001b[0m",
      "\u001b[0;31mTypeError\u001b[0m: 'str' object does not support item assignment"
     ]
    }
   ],
   "source": [
    "test[10] = 'i'"
   ]
  },
  {
   "cell_type": "markdown",
   "id": "eb69d306-28b7-45e2-8217-f7c058515303",
   "metadata": {},
   "source": [
    "In order to change the string we have to define an entirely new string:"
   ]
  },
  {
   "cell_type": "code",
   "execution_count": 15,
   "id": "454d5d80-eb93-4c63-9a46-9cda090c3841",
   "metadata": {},
   "outputs": [
    {
     "name": "stdout",
     "output_type": "stream",
     "text": [
      "This is Thit\n"
     ]
    }
   ],
   "source": [
    "test2 = test[:10] + 'i' + test[11:]\n",
    "print(test2)"
   ]
  },
  {
   "cell_type": "markdown",
   "id": "4de51263-6dae-4ebc-8704-5962b15b1b1a",
   "metadata": {},
   "source": [
    "Mutability and Immutability, like typing and dynamic typing are options that are different for every languages."
   ]
  },
  {
   "cell_type": "markdown",
   "id": "1934913a-4944-4e7d-8f61-9989be53fe7f",
   "metadata": {},
   "source": [
    "## Functions and Lists\n",
    "\n",
    "What does this function do?"
   ]
  },
  {
   "cell_type": "code",
   "execution_count": 16,
   "id": "1b2dcef8-fcca-430d-8bc1-83b8f6d9b5a0",
   "metadata": {},
   "outputs": [],
   "source": [
    "def find(word, letter):\n",
    "    index = 0\n",
    "    while index < len(word):\n",
    "        if word[index] == letter:\n",
    "            return index\n",
    "        index = index+1\n",
    "    return -1"
   ]
  },
  {
   "cell_type": "markdown",
   "id": "60b32a62-1104-4653-92de-51b089e7c48a",
   "metadata": {},
   "source": [
    "### Write a function that counts the number of times a letter is used in a word"
   ]
  },
  {
   "cell_type": "markdown",
   "id": "9de0cbdb-8c3b-4728-8538-8f179d76053c",
   "metadata": {},
   "source": [
    "## Methods\n",
    "\n",
    "In Python, *methods* are functions that are written to work with specific types and are attached to the members of that type. They are implemented so that once called, their result is attached to that object and multiple calls to it will cost less.\n",
    "\n",
    "Strings have a number of useful methods attached:"
   ]
  },
  {
   "cell_type": "code",
   "execution_count": 17,
   "id": "d777ab0d-1fed-4802-b5ad-805aa4e86565",
   "metadata": {},
   "outputs": [
    {
     "data": {
      "text/plain": [
       "\"I'm not screaming.\""
      ]
     },
     "execution_count": 17,
     "metadata": {},
     "output_type": "execute_result"
    }
   ],
   "source": [
    "statement1 = \"I'm not screaming.\"\n",
    "statement1"
   ]
  },
  {
   "cell_type": "code",
   "execution_count": 18,
   "id": "4ec9d4d9-e9e6-44f2-8a91-f4bee03e5444",
   "metadata": {},
   "outputs": [
    {
     "data": {
      "text/plain": [
       "\"I'M NOT SCREAMING.\""
      ]
     },
     "execution_count": 18,
     "metadata": {},
     "output_type": "execute_result"
    }
   ],
   "source": [
    "statement1.upper()"
   ]
  },
  {
   "cell_type": "code",
   "execution_count": 20,
   "id": "d2c0cb3c-05f7-4729-8def-5061805c4b44",
   "metadata": {},
   "outputs": [
    {
     "data": {
      "text/plain": [
       "1"
      ]
     },
     "execution_count": 20,
     "metadata": {},
     "output_type": "execute_result"
    }
   ],
   "source": [
    "statement1.find(\"'\")"
   ]
  },
  {
   "cell_type": "code",
   "execution_count": 21,
   "id": "1d713bc3-959b-4dc4-9af8-fd8e7cc83982",
   "metadata": {},
   "outputs": [
    {
     "data": {
      "text/plain": [
       "11"
      ]
     },
     "execution_count": 21,
     "metadata": {},
     "output_type": "execute_result"
    }
   ],
   "source": [
    "statement1.find('ea')"
   ]
  },
  {
   "cell_type": "code",
   "execution_count": 22,
   "id": "8b5da1ed-833e-42cd-9dc1-5e7555855a86",
   "metadata": {},
   "outputs": [
    {
     "data": {
      "text/plain": [
       "'ea'"
      ]
     },
     "execution_count": 22,
     "metadata": {},
     "output_type": "execute_result"
    }
   ],
   "source": [
    "statement1[11:13]"
   ]
  },
  {
   "cell_type": "code",
   "execution_count": 24,
   "id": "52afaf3e-fd04-485c-868b-e6b1007bfbeb",
   "metadata": {},
   "outputs": [
    {
     "data": {
      "text/plain": [
       "14"
      ]
     },
     "execution_count": 24,
     "metadata": {},
     "output_type": "execute_result"
    }
   ],
   "source": [
    "statement1.find('i', 1)\n",
    "# What did the number do?"
   ]
  },
  {
   "cell_type": "code",
   "execution_count": 25,
   "id": "254fc06c-f3e5-47ac-b45e-7291b0dc3e4c",
   "metadata": {},
   "outputs": [
    {
     "data": {
      "text/plain": [
       "-1"
      ]
     },
     "execution_count": 25,
     "metadata": {},
     "output_type": "execute_result"
    }
   ],
   "source": [
    "statement1.find('i', 1, 13)\n",
    "# what did the second number do?"
   ]
  },
  {
   "cell_type": "markdown",
   "id": "0f7661f1-993b-4ff5-8e1c-d7a8ba6771e0",
   "metadata": {},
   "source": [
    "## The *in* operator\n",
    "\n",
    "We can also check if a substring is in a string. Simmilarly we can check if an object is in a list."
   ]
  },
  {
   "cell_type": "code",
   "execution_count": 26,
   "id": "a5deced7-1fc7-4973-b345-2d86e259fa5a",
   "metadata": {},
   "outputs": [],
   "source": [
    "statement1 = 'Dog eat dog world'"
   ]
  },
  {
   "cell_type": "code",
   "execution_count": 27,
   "id": "387540aa-a73c-4b21-a159-151a5aa5019e",
   "metadata": {},
   "outputs": [
    {
     "data": {
      "text/plain": [
       "True"
      ]
     },
     "execution_count": 27,
     "metadata": {},
     "output_type": "execute_result"
    }
   ],
   "source": [
    "'dog' in statement1"
   ]
  },
  {
   "cell_type": "code",
   "execution_count": 28,
   "id": "5cbfb804-6802-4668-9094-e35804be383e",
   "metadata": {},
   "outputs": [
    {
     "data": {
      "text/plain": [
       "True"
      ]
     },
     "execution_count": 28,
     "metadata": {},
     "output_type": "execute_result"
    }
   ],
   "source": [
    "list_of_integers = [1, 2, 3, 4, 5]\n",
    "5 in list_of_integers"
   ]
  },
  {
   "cell_type": "code",
   "execution_count": 29,
   "id": "04b868b1-68b7-44d3-a120-c7f79c4c85c0",
   "metadata": {},
   "outputs": [],
   "source": [
    "def in_both(word1, word2):\n",
    "    for letter in word1:\n",
    "        if letter in word2:\n",
    "            print(letter)\n",
    "            "
   ]
  },
  {
   "cell_type": "markdown",
   "id": "86c70892-fc85-4383-a4ad-d05daab49c47",
   "metadata": {},
   "source": [
    "What does *in_both* do?"
   ]
  },
  {
   "cell_type": "code",
   "execution_count": null,
   "id": "f10a93a6-3068-40bc-992c-677cc5b551b9",
   "metadata": {},
   "outputs": [],
   "source": []
  }
 ],
 "metadata": {
  "kernelspec": {
   "display_name": "Python 3",
   "language": "python",
   "name": "python3"
  },
  "language_info": {
   "codemirror_mode": {
    "name": "ipython",
    "version": 3
   },
   "file_extension": ".py",
   "mimetype": "text/x-python",
   "name": "python",
   "nbconvert_exporter": "python",
   "pygments_lexer": "ipython3",
   "version": "3.9.5"
  }
 },
 "nbformat": 4,
 "nbformat_minor": 5
}
