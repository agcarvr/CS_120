{
 "cells": [
  {
   "cell_type": "markdown",
   "id": "cbca0ba0-45c2-4dee-9f35-b1d6ab7d15d3",
   "metadata": {},
   "source": [
    "# CS 120 - Introduction to Programming - Fall 2021\n",
    "\n",
    "## Class and Instructor Details\n",
    "\n",
    "CS 120-004 - Introduction to Programming (3 credits)\n",
    "\n",
    "### Instructor\n",
    "\n",
    "Virgil U Pierce <br/>\n",
    "Email: virgil.pierce@unco.edu <br/>\n",
    "Cell: 956-249-0566\n",
    "\n",
    "Office: Ross Hall 2239\n",
    "\n",
    "### Class Meetings\n",
    "\n",
    "Monday, Wednesday, and Friday: 10:10am to 11:00am <br/>\n",
    "Ross Hall 2261\n",
    "\n",
    "### COVID-19 Adjustments\n",
    "\n",
    "I suggest wearing a mask. Incidence of breakthrough infections are non-zero, and the consequence of an infection appear to be seveere and potentially long term even in young people (and I for one am not so young anymore). \n",
    "\n",
    "My wife has a medical condition making vaccines generally less effective for her, and I therefore respectfully ask that you not attend class if you have a fever or cough. I will make arrangements for people to join us via Zoom if needed.\n",
    "\n",
    "### Student Hours\n",
    "\n",
    "Online and To be Determined.\n",
    "\n",
    "Appointments can be made via:  [https://virgilpierce.youcanbook.me](https://virgilpierce.youcanbook.me)"
   ]
  },
  {
   "cell_type": "markdown",
   "id": "6d03e3e7-870a-4fc2-8276-68faff57cd44",
   "metadata": {},
   "source": [
    "## Course Description\n",
    "\n",
    "From the catalogue: Become familiar with designing and writing programs in a high-level language. Programs will involve some technical applications in science and mathematics. \n",
    "\n",
    "Topics will include:\n",
    "\n",
    "- Built-in variable types:  Integers, Floating Point Numbers, Lists, Tuples, and Dictionaries.\n",
    "- Loops and Recursion\n",
    "- Functions\n",
    "- Conditions and Flow Control\n",
    "- User Defined Types\n",
    "- Using common modules for math and science computations\n",
    "\n",
    "## Software\n",
    "\n",
    "All of the software (and the book) for class is available for free:\n",
    "\n",
    "### Python\n",
    "\n",
    "The course uses Python as the primary programming langauge. Python is an excellent first language, and also a good environment for exploring algorithms before taking them to other languages for implementation.\n",
    "\n",
    "Python's advantages include:  \n",
    "- A syntax that encourages writing easy to read programs\n",
    "- human readable code:  almost always a statement does exactly what it says it does if you read it in English\n",
    "- dynamic typing: typing variables is handled automatically removing one of the major barriers in learning a first language\n",
    "- Interactive Dynamic Environment: Python can be run in an IDE meaning you can execute a statement and then see what it did\n",
    "\n",
    "Python is also now the most commonly used language in math and science for professional computations. UNC is in the process of phasing out the use of commercial software for mathematics computations to use Python instead. \n",
    "\n",
    "The disadvantages of Python are:\n",
    "- It is dynamically typed:  Your code will not give you a warning if you assume something is an integer and it is not.\n",
    "- It is not usually compiled:  Compiling is a process other languages use to process the human written code into instructions for the computer. Compiled languages are much much faster.\n",
    "\n",
    "### Jupyter\n",
    "\n",
    "There are a variety of IDE softwares you could use which provide the primary interface we will use for interacting with Python. I am particularly fond of Jupyter for reasons we will discuss in class. You have the following options for accessing Jupyter:\n",
    "\n",
    "1. You can install a local version of Jupyter on your personal computer. I recommend downloading Anaconda: https://www.anaconda.com/products/individual which is a package manager for Python / Jupyter. \n",
    "\n",
    "2. You can access something like Jupyter with Google Colab. This does require a google account; but you will not need to install anything, and it will work on Chromebooks, tablets, and phones.\n",
    "\n",
    "3. Jupyter is also isntalled on the university Apporto Server which you can access here: https://unco.apporto.com/  You will not need to install anything, and it will work on Chromebooks, tablets, and phones.\n",
    "\n",
    "4. If you are interested, we have a set of computers the university is letting us install Linux on, and once we get them configured for Linux we will be able to have Jupyter/Python running there.\n"
   ]
  },
  {
   "cell_type": "markdown",
   "id": "d9d1dec3-3389-4587-948b-93ac2800503d",
   "metadata": {},
   "source": [
    "## Textbook\n",
    "\n",
    "We will be using the *Think Python* book by Allen Downey. It is available for free here: https://greenteapress.com/wp/think-python-2e/\n",
    "\n",
    "You can purchase a print copy if you prefer that. \n",
    "\n",
    "### Course Notes\n",
    "\n",
    "The notes we use in course, include some code examples are provided on Github: https://github.com/virgilpierce/CS_120\n",
    "\n",
    "If you are in the Applied Math or Software Engineering majors it would be worth your time to start learning how to use Github, though for our course I am not going to require that you use it.\n",
    "\n",
    "### Other References\n",
    "\n",
    "There are a lot of resources for Python available. If you would like more detail, I recommend the O'Reily series of books. However I also find that books rarely answer all of my questions - learning how to google for information about how to do things or what is not working is an important skill to develop as a scientist and a programmer specifically.\n",
    "\n",
    "There is some inline help if you are using the IDE or Jupyter:"
   ]
  },
  {
   "cell_type": "code",
   "execution_count": 3,
   "id": "aad8dbdc-aa8e-46b2-be42-e80e9d80c82c",
   "metadata": {},
   "outputs": [
    {
     "data": {
      "text/plain": [
       "\u001b[0;31mInit signature:\u001b[0m \u001b[0mint\u001b[0m\u001b[0;34m(\u001b[0m\u001b[0mself\u001b[0m\u001b[0;34m,\u001b[0m \u001b[0;34m/\u001b[0m\u001b[0;34m,\u001b[0m \u001b[0;34m*\u001b[0m\u001b[0margs\u001b[0m\u001b[0;34m,\u001b[0m \u001b[0;34m**\u001b[0m\u001b[0mkwargs\u001b[0m\u001b[0;34m)\u001b[0m\u001b[0;34m\u001b[0m\u001b[0;34m\u001b[0m\u001b[0m\n",
       "\u001b[0;31mDocstring:\u001b[0m     \n",
       "int([x]) -> integer\n",
       "int(x, base=10) -> integer\n",
       "\n",
       "Convert a number or string to an integer, or return 0 if no arguments\n",
       "are given.  If x is a number, return x.__int__().  For floating point\n",
       "numbers, this truncates towards zero.\n",
       "\n",
       "If x is not a number or if base is given, then x must be a string,\n",
       "bytes, or bytearray instance representing an integer literal in the\n",
       "given base.  The literal can be preceded by '+' or '-' and be surrounded\n",
       "by whitespace.  The base defaults to 10.  Valid bases are 0 and 2-36.\n",
       "Base 0 means to interpret the base from the string as an integer literal.\n",
       ">>> int('0b100', base=0)\n",
       "4\n",
       "\u001b[0;31mType:\u001b[0m           type\n",
       "\u001b[0;31mSubclasses:\u001b[0m     bool, IntEnum, IntFlag, _NamedIntConstant\n"
      ]
     },
     "metadata": {},
     "output_type": "display_data"
    }
   ],
   "source": [
    "# Help page describing the function or type\n",
    "\n",
    "int?"
   ]
  },
  {
   "cell_type": "code",
   "execution_count": 4,
   "id": "1513227b-4085-411b-983c-a52a6e6d6cc9",
   "metadata": {},
   "outputs": [
    {
     "data": {
      "text/plain": [
       "['as_integer_ratio',\n",
       " 'bit_length',\n",
       " 'conjugate',\n",
       " 'denominator',\n",
       " 'from_bytes',\n",
       " 'imag',\n",
       " 'numerator',\n",
       " 'real',\n",
       " 'to_bytes']"
      ]
     },
     "execution_count": 4,
     "metadata": {},
     "output_type": "execute_result"
    }
   ],
   "source": [
    "# A list of the non system attributes of a function, type, or object\n",
    "\n",
    "[x for x in dir(int) if not '__' in x]"
   ]
  },
  {
   "cell_type": "markdown",
   "id": "bb77021d-fd87-4125-98e8-9c4694e11542",
   "metadata": {},
   "source": [
    "## Learning Objectives / Outcomes for the Course\n",
    "\n",
    "As a result of this course, students will:\n",
    "\n",
    "1. use computer programming to solve computational problems in mathematics and science;\n",
    "2. develop algorithms and then implement them\n",
    "3. evaluate code written by someone else and explain what the result should be, or what correction is needed.\n",
    "4. write functions, loops, and control structures.\n",
    "\n",
    "A typical week of class will involve posing a question for which Python is a good solution, exploring some of the tools we need in order to solve it, and then learning how to use those tools as implemented for Python.\n",
    "\n",
    "-----\n",
    "\n",
    "A caveate about the course and this topic:  I have learned 8 computer languages fluently (and 0 human languages - I know just enough Spanish to get into a lot of trouble in Mexico). Each one you learn will be easier than the ones before with some exceptions. I have never learned them from a course - the best way to learn the language is to find a problem you want to solve and then write a program to solve it. Do enough of this and you will know the language.\n",
    "\n",
    "**So why this course?**  I am going to pose to you a series of problems that will help us formulate structure we need from Python to solve it; we will then learn about that structure, and then solve the problem. In the process we will be learning Python, but more generally we will be learning about how algorithms a computer can use are structured and how to build an algorithm for a problem. \n",
    "\n",
    "Future courses in CS as UNC you can take will cover more powerful tools, particularly ones that exploit the way computers work, and the analysis of algorithms to determine which ones are best and estimate how much power is needed.\n",
    "\n",
    "This is a fascinating subject. If you are interested in languages beyond Python and Java that we teach, I would like to be forming a club for students that are learning newer languages that are less used."
   ]
  },
  {
   "cell_type": "markdown",
   "id": "fd1a94a6-a9bb-404c-a911-074069fa3255",
   "metadata": {},
   "source": [
    "## Course Outline\n",
    "\n",
    "Python is quickly replacing a lot of other types of software I use in my daily work. In particular it has some big advantages as a replacement for spreadsheets. I am using it here to make the schedule for our class:"
   ]
  },
  {
   "cell_type": "markdown",
   "id": "7dfd70c5-1337-4018-bffd-81923def070b",
   "metadata": {},
   "source": [
    "## Connections with Industrial Mathematics\n",
    "\n",
    "This course is directly connected with the growing mathematics field of Data Science. There are many opportunities for people with an expertise in this field. However the field is very accessible so you have competition.\n",
    "\n",
    "Some thoughts on how to rise to the top:\n",
    "1. Have some projects you have done that you can talk about,\n",
    "2. Be able to talk about working with a team i.e. how do you help your team be effective, how did you get your team over a challenge, how do you lead?,\n",
    "3. Be able to talk about challenges in the field (we will do this),\n",
    "4. Have a breadth of experience in science or business generally, and mathematics, statistics, and computer science specifically (we will do this), and\n",
    "5. The more you have done the better - I suggest devoting some of your play time to working with data (we will explore Kaggle in this class, and my suggestion is that it become one of your hobbies).\n",
    "\n",
    "I have some literature on building a career in Data Science available if you like.\n",
    "\n",
    "If you are interested in this direction consider:  Any of the other CS courses we offer, the MATH 351 and STAT 409 and 411 courses."
   ]
  },
  {
   "cell_type": "markdown",
   "id": "5bf51294-c6d2-4dfa-abde-ef8aa870cf1a",
   "metadata": {},
   "source": [
    "## Assessments\n",
    "\n",
    "As with any math or science class, doing the work is essential to processing and learning the material. Furthermore the concepts covered in this class are not meant to be purely abstract things, but instead are actual tools deployable to solve computational problems or to issue instructions to a computer to display or record information.  You must do the activities from class and homework in order to make progress.\n",
    "\n",
    "### Homework\n",
    "\n",
    "There will be weekly homework assignments asking you to either write code or evaluate someone elses code.  These are indended to be done with teammates and I highliy recommend having a group from class that you want to work with. We have space in the Ross 22XX wing if your group needs a place to work and needs computers to work on.\n",
    "\n",
    "### Checking your understand\n",
    "\n",
    "We will do a number of activites during class as teams to help you check your understanding or develop new understandings. \n",
    "\n",
    "### Class Presentations and Flipgrid\n",
    "\n",
    "We will use flipgrid as part of class to have you share your reasoning and methods with others in the class.\n",
    "\n",
    "### Projects\n",
    "\n",
    "There will be a few projects you will do as part of class that ask you to put together multiple concepts form class to solve a computational problem (or more correctly to have a computer solve the problem). Part of your project will be a video explaining your approach and how it is working.\n",
    "\n",
    "### Final\n",
    "\n",
    "We will have a final exam with some questions you have been prepped on ahead of time. They will not involve writing new code so much as fixing someone elses code or identifying what the bug is. \n",
    "\n",
    "### Grading and Feedback\n",
    "\n",
    "You will have a chance to submit corrections for the homework and projects. Your final grade will be based on a weighting of:  Homework 30%; Projects 30%, Final 10%, Checking your Understanding 15%, and presentations 15%. However I am most interested in seeing that you have made progress during the course. \n",
    "\n"
   ]
  },
  {
   "cell_type": "markdown",
   "id": "4223c80f-f2c8-4d56-aa95-9edcf04caeee",
   "metadata": {},
   "source": [
    "## UNCO Policy Statements"
   ]
  },
  {
   "cell_type": "markdown",
   "id": "fc456dcc-e829-4131-8acf-9a5bc5f72e2a",
   "metadata": {},
   "source": [
    "### Disability Resources\n",
    "\n",
    "It is the policy and practice of the University of Northern Colorado to create inclusive learning environments. If there are aspects of the instruction or design of this course that present barriers to your inclusion or to an accurate assessment of your achievement such as time-limited exams, inaccessible web content, or use of videos without caption, please communicate this with your professor and contact Disability Support Services (DSS) at (970) 351-2289, Michener Library L-80 to request accommodations. Students can learn more about the accommodation process at  [https://www.unco.edu/disability-resource-center/accommodations/](https://www.unco.edu/disability-resource-center/accommodations/)"
   ]
  },
  {
   "cell_type": "markdown",
   "id": "fc77a84e-23d9-4199-a211-a618c5dc60f4",
   "metadata": {},
   "source": [
    "### Food Insecurity and Basic Needs\n",
    "\n",
    "Research shows that college students experience food insecurity at higher rates than the American household rate, and that food insecurity can negatively impact academic performance and persistence. In recognition of this problem, UNC offers assistance to students facing food insecurity through an on- campus food pantry. The Bear Pantry is located in University Center 2166A, and is open for regular hours throughout the semester.  \n",
    "\n",
    "Please visit [www.unco.edu/bear-pantry](www.unco.edu/bear-pantry) for more information.\n",
    "\n",
    "Any student who faces challenges securing their food or housing and believes this may affect their performance in the course is also urged to contact Student Outreach and Support (SOS) for assistance.  SOS can assist students during difficult circumstances which may include medical, mental health, personal or family crisis, illness or injury. SOS can be reached at sos@unco.edu or via phone at 970-351-2796."
   ]
  },
  {
   "cell_type": "markdown",
   "id": "ee17106b-eee6-40a5-b9f1-2d2d4fb58aeb",
   "metadata": {},
   "source": [
    "### Honor Code\n",
    "\n",
    "All members of the University of Northern Colorado community are entrusted with the responsibility to uphold and promote five fundamental values: Honesty, Trust, Respect, Fairness, and Responsibility. These core elements foster an atmosphere, inside and outside of the classroom, which serves as a foundation and guides the UNC community's academic, professional, and personal growth. Endorsement of these core elements by students, faculty, staff, administration, and trustees strengthens the integrity and value of our academic climate.\n",
    "\n",
    "Passing off others work as your own is very unethical and when it comes to computer code is also a security problem for your machine and your data. All assignments will clearly identify to what extent collaboration is allowed, and in the case of homework it is encouraged. If in doubt, please do ask, and always provide attribution if you are using what someone else has done. Interestingly, we will be using a few of the standard modules for Python which are by definition code others have written, but we will be explicit in what we are doing. "
   ]
  },
  {
   "cell_type": "markdown",
   "id": "1f372ff3-5097-4c8e-83cd-a8b6d1a17071",
   "metadata": {},
   "source": [
    "### UNC's Policies\n",
    "\n",
    "UNC's policies and recommendations for academic misconduct will be followed. For additional information, please see the Student Code of Conduct at the Dean of Student’s website [http://www.unco.edu/dos/Conduct/codeofconduct.html](http://www.unco.edu/dos/Conduct/codeofconduct.html). In the case of academic appeals, university procedures will be followed. For information on academic appeals, see [https://www.unco.edu/trustees/pdf/board-policy-manual.pdf](https://www.unco.edu/trustees/pdf/board-policy-manual.pdf)."
   ]
  }
 ],
 "metadata": {
  "kernelspec": {
   "display_name": "Python 3",
   "language": "python",
   "name": "python3"
  },
  "language_info": {
   "codemirror_mode": {
    "name": "ipython",
    "version": 3
   },
   "file_extension": ".py",
   "mimetype": "text/x-python",
   "name": "python",
   "nbconvert_exporter": "python",
   "pygments_lexer": "ipython3",
   "version": "3.9.5"
  }
 },
 "nbformat": 4,
 "nbformat_minor": 5
}
